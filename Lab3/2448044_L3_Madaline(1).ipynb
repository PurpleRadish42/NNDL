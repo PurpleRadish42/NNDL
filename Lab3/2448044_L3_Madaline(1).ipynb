{
  "cells": [
    {
      "cell_type": "markdown",
      "metadata": {
        "id": "nywEgC1PsOgt"
      },
      "source": [
        "Program #1: Implementing Smart Farming Decisions Using\n",
        "MADALINE Neural Network: Irrigation and Equipment Deployment\n",
        "Automation.\n",
        "\n",
        "In modern agriculture, optimizing water usage and resource deployment is\n",
        "essential for sustainability and efficiency. Smart farms are increasingly equipped\n",
        "\n",
        "with IoT-based sensors that collect real-time environmental and operational data.\n",
        "\n",
        "Two critical decisions that impact farm productivity and resource conservation are:\n",
        "\n",
        "1. Irrigation Decision – Whether to turn irrigation ON or OFF, based on soil\n",
        "moisture, weather conditions, and crop water needs.\n",
        "\n",
        "2. Farm Equipment Deployment – Whether to send tractors or harvesters to\n",
        "the field, based on soil condition, crop readiness, and weather forecast."
      ]
    },
    {
      "cell_type": "markdown",
      "metadata": {
        "id": "XMz8jJ08sU5R"
      },
      "source": [
        "#generate the Synthetic Data"
      ]
    },
    {
      "cell_type": "code",
      "execution_count": 1,
      "metadata": {
        "colab": {
          "base_uri": "https://localhost:8080/"
        },
        "id": "_h7X-adOsK86",
        "outputId": "f3881027-3a53-41a6-c1aa-8d45cd941289"
      },
      "outputs": [
        {
          "name": "stdout",
          "output_type": "stream",
          "text": [
            "   Soil Moisture  Weather  Crop Water Need  Soil Condition  Crop Readiness  \\\n",
            "0              0        0                0               0               0   \n",
            "1              1        1                1               0               1   \n",
            "2              0        0                1               0               0   \n",
            "3              0        1                1               0               0   \n",
            "4              0        0                1               0               1   \n",
            "\n",
            "   Weather Forecast  Irrigate  Deploy Equipment  \n",
            "0                 1         0                 0  \n",
            "1                 0         0                 1  \n",
            "2                 1         0                 0  \n",
            "3                 0         1                 0  \n",
            "4                 0         1                 1  \n"
          ]
        }
      ],
      "source": [
        "import numpy as np\n",
        "import pandas as pd\n",
        "\n",
        "# Set random seed for reproducibility\n",
        "np.random.seed(42)\n",
        "\n",
        "# Number of samples\n",
        "n_samples = 50\n",
        "\n",
        "# Generate random binary features\n",
        "soil_moisture = np.random.randint(0, 2, n_samples)          # 0=Low, 1=High\n",
        "weather = np.random.randint(0, 2, n_samples)                # 0=Sunny, 1=Rainy\n",
        "crop_water_need = np.random.randint(0, 2, n_samples)        # 0=Low, 1=High\n",
        "soil_condition = np.random.randint(0, 2, n_samples)         # 0=Dry, 1=Wet\n",
        "crop_readiness = np.random.randint(0, 2, n_samples)         # 0=Not Ready, 1=Ready\n",
        "weather_forecast = np.random.randint(0, 2, n_samples)       # 0=No Rain, 1=Rain Expected\n",
        "\n",
        "# Simple logic for targets\n",
        "# Irrigate ON if soil moisture is low, crop water need is high, and no rain expected\n",
        "irrigate = ((soil_moisture == 0) & (crop_water_need == 1) & (weather_forecast == 0)).astype(int)\n",
        "# Deploy equipment if crop is ready and soil is dry\n",
        "deploy = ((crop_readiness == 1) & (soil_condition == 0)).astype(int)\n",
        "\n",
        "# Create DataFrame\n",
        "df = pd.DataFrame({\n",
        "    'Soil Moisture': soil_moisture,\n",
        "    'Weather': weather,\n",
        "    'Crop Water Need': crop_water_need,\n",
        "    'Soil Condition': soil_condition,\n",
        "    'Crop Readiness': crop_readiness,\n",
        "    'Weather Forecast': weather_forecast,\n",
        "    'Irrigate': irrigate,\n",
        "    'Deploy Equipment': deploy\n",
        "})\n",
        "\n",
        "# Display the first few rows\n",
        "print(df.head())\n",
        "\n",
        "\n"
      ]
    },
    {
      "cell_type": "markdown",
      "metadata": {
        "id": "IUmySfkatodb"
      },
      "source": [
        "from first table\n",
        "Soil Moisture: 0 (Low)\n",
        "\n",
        "Weather: 0 (Sunny)\n",
        "\n",
        "Crop Water Need: 0 (Low)\n",
        "\n",
        "Soil Condition: 0 (Dry)\n",
        "\n",
        "Crop Readiness: 0 (Not Ready)\n",
        "\n",
        "Weather Forecast: 1 (Rain Expected)\n",
        "\n",
        "Irrigate: 0 (Don't irrigate)\n",
        "\n",
        "Deploy Equipment: 0 (Don't deploy)\n"
      ]
    },
    {
      "cell_type": "code",
      "execution_count": 2,
      "metadata": {
        "id": "3-_K4W-ltyDT"
      },
      "outputs": [],
      "source": [
        "X=df.iloc[:,0:6].values #this is for input feature\n",
        "Y=df.iloc[:,6:8].values #this is for target feature\n",
        "\n",
        "#X contains the first 6 columns (features): sensor readings like soil moisture, weather, etc.\n",
        "#y contains the last 2 columns (targets): whether to irrigate and whether to deploy equipment."
      ]
    },
    {
      "cell_type": "code",
      "execution_count": 3,
      "metadata": {
        "id": "Guq6yXYawKFx"
      },
      "outputs": [
        {
          "ename": "ModuleNotFoundError",
          "evalue": "No module named 'keras'",
          "output_type": "error",
          "traceback": [
            "\u001b[1;31m---------------------------------------------------------------------------\u001b[0m",
            "\u001b[1;31mModuleNotFoundError\u001b[0m                       Traceback (most recent call last)",
            "Cell \u001b[1;32mIn[3], line 2\u001b[0m\n\u001b[0;32m      1\u001b[0m \u001b[38;5;66;03m# 2. Design network (using Keras for simplicity)\u001b[39;00m\n\u001b[1;32m----> 2\u001b[0m \u001b[38;5;28;01mfrom\u001b[39;00m\u001b[38;5;250m \u001b[39m\u001b[38;5;21;01mkeras\u001b[39;00m\u001b[38;5;21;01m.\u001b[39;00m\u001b[38;5;21;01mmodels\u001b[39;00m\u001b[38;5;250m \u001b[39m\u001b[38;5;28;01mimport\u001b[39;00m Sequential\n\u001b[0;32m      3\u001b[0m \u001b[38;5;28;01mfrom\u001b[39;00m\u001b[38;5;250m \u001b[39m\u001b[38;5;21;01mkeras\u001b[39;00m\u001b[38;5;21;01m.\u001b[39;00m\u001b[38;5;21;01mlayers\u001b[39;00m\u001b[38;5;250m \u001b[39m\u001b[38;5;28;01mimport\u001b[39;00m Dense\n",
            "\u001b[1;31mModuleNotFoundError\u001b[0m: No module named 'keras'"
          ]
        }
      ],
      "source": [
        "# 2. Design network (using Keras for simplicity)\n",
        "from keras.models import Sequential\n",
        "from keras.layers import Dense"
      ]
    },
    {
      "cell_type": "code",
      "execution_count": null,
      "metadata": {
        "colab": {
          "base_uri": "https://localhost:8080/"
        },
        "id": "lJyh0wCGwPK5",
        "outputId": "fbe1f6ad-1963-488a-f0f4-0b3d3f379bd0"
      },
      "outputs": [
        {
          "name": "stderr",
          "output_type": "stream",
          "text": [
            "/usr/local/lib/python3.11/dist-packages/keras/src/layers/core/dense.py:87: UserWarning: Do not pass an `input_shape`/`input_dim` argument to a layer. When using Sequential models, prefer using an `Input(shape)` object as the first layer in the model instead.\n",
            "  super().__init__(activity_regularizer=activity_regularizer, **kwargs)\n"
          ]
        }
      ],
      "source": [
        "\n",
        "model = Sequential()\n",
        "model.add(Dense(units=6, activation='relu', input_shape=(6,)))  # Hidden layer\n",
        "model.add(Dense(units=2, activation='sigmoid'))                 # Output layer"
      ]
    },
    {
      "cell_type": "markdown",
      "metadata": {
        "id": "iz6Ig3zXxAct"
      },
      "source": [
        "Sequential() creates a linear stack of layers, where each layer feeds into the next.\n",
        "\n",
        "Dense layers are fully connected layers:\n",
        "\n",
        "The first Dense layer (hidden layer) has 6 units (neurons), uses the ReLU activation function, and expects 6 input features.\n",
        "\n",
        "The second Dense layer (output layer) has 2 units (for the two decisions), uses the sigmoid activation (outputs values between 0 and 1, suitable for binary classification)"
      ]
    },
    {
      "cell_type": "code",
      "execution_count": null,
      "metadata": {
        "id": "UOGnw-mwwSMC"
      },
      "outputs": [],
      "source": [
        "\n",
        "# 3. Compile model\n",
        "model.compile(optimizer='adam', loss='binary_crossentropy', metrics=['accuracy'])"
      ]
    },
    {
      "cell_type": "code",
      "execution_count": null,
      "metadata": {
        "colab": {
          "base_uri": "https://localhost:8080/"
        },
        "id": "_ldoll5XymoE",
        "outputId": "e6525ef3-5106-4f9a-b4dd-d18f323a70d2"
      },
      "outputs": [
        {
          "name": "stdout",
          "output_type": "stream",
          "text": [
            "Epoch 1/50\n",
            "\u001b[1m7/7\u001b[0m \u001b[32m━━━━━━━━━━━━━━━━━━━━\u001b[0m\u001b[37m\u001b[0m \u001b[1m0s\u001b[0m 8ms/step - accuracy: 0.2649 - loss: 0.4966 \n",
            "Epoch 2/50\n",
            "\u001b[1m7/7\u001b[0m \u001b[32m━━━━━━━━━━━━━━━━━━━━\u001b[0m\u001b[37m\u001b[0m \u001b[1m0s\u001b[0m 13ms/step - accuracy: 0.2142 - loss: 0.4493\n",
            "Epoch 3/50\n",
            "\u001b[1m7/7\u001b[0m \u001b[32m━━━━━━━━━━━━━━━━━━━━\u001b[0m\u001b[37m\u001b[0m \u001b[1m0s\u001b[0m 12ms/step - accuracy: 0.2936 - loss: 0.4648\n",
            "Epoch 4/50\n",
            "\u001b[1m7/7\u001b[0m \u001b[32m━━━━━━━━━━━━━━━━━━━━\u001b[0m\u001b[37m\u001b[0m \u001b[1m0s\u001b[0m 8ms/step - accuracy: 0.2155 - loss: 0.4980 \n",
            "Epoch 5/50\n",
            "\u001b[1m7/7\u001b[0m \u001b[32m━━━━━━━━━━━━━━━━━━━━\u001b[0m\u001b[37m\u001b[0m \u001b[1m0s\u001b[0m 10ms/step - accuracy: 0.2441 - loss: 0.4613\n",
            "Epoch 6/50\n",
            "\u001b[1m7/7\u001b[0m \u001b[32m━━━━━━━━━━━━━━━━━━━━\u001b[0m\u001b[37m\u001b[0m \u001b[1m0s\u001b[0m 9ms/step - accuracy: 0.3004 - loss: 0.4363 \n",
            "Epoch 7/50\n",
            "\u001b[1m7/7\u001b[0m \u001b[32m━━━━━━━━━━━━━━━━━━━━\u001b[0m\u001b[37m\u001b[0m \u001b[1m0s\u001b[0m 10ms/step - accuracy: 0.3001 - loss: 0.4798\n",
            "Epoch 8/50\n",
            "\u001b[1m7/7\u001b[0m \u001b[32m━━━━━━━━━━━━━━━━━━━━\u001b[0m\u001b[37m\u001b[0m \u001b[1m0s\u001b[0m 11ms/step - accuracy: 0.2595 - loss: 0.4636\n",
            "Epoch 9/50\n",
            "\u001b[1m7/7\u001b[0m \u001b[32m━━━━━━━━━━━━━━━━━━━━\u001b[0m\u001b[37m\u001b[0m \u001b[1m0s\u001b[0m 9ms/step - accuracy: 0.2993 - loss: 0.4479 \n",
            "Epoch 10/50\n",
            "\u001b[1m7/7\u001b[0m \u001b[32m━━━━━━━━━━━━━━━━━━━━\u001b[0m\u001b[37m\u001b[0m \u001b[1m0s\u001b[0m 10ms/step - accuracy: 0.2267 - loss: 0.4720\n",
            "Epoch 11/50\n",
            "\u001b[1m7/7\u001b[0m \u001b[32m━━━━━━━━━━━━━━━━━━━━\u001b[0m\u001b[37m\u001b[0m \u001b[1m0s\u001b[0m 10ms/step - accuracy: 0.2498 - loss: 0.4652\n",
            "Epoch 12/50\n",
            "\u001b[1m7/7\u001b[0m \u001b[32m━━━━━━━━━━━━━━━━━━━━\u001b[0m\u001b[37m\u001b[0m \u001b[1m0s\u001b[0m 9ms/step - accuracy: 0.1827 - loss: 0.4903     \n",
            "Epoch 13/50\n",
            "\u001b[1m7/7\u001b[0m \u001b[32m━━━━━━━━━━━━━━━━━━━━\u001b[0m\u001b[37m\u001b[0m \u001b[1m0s\u001b[0m 9ms/step - accuracy: 0.2204 - loss: 0.4315 \n",
            "Epoch 14/50\n",
            "\u001b[1m7/7\u001b[0m \u001b[32m━━━━━━━━━━━━━━━━━━━━\u001b[0m\u001b[37m\u001b[0m \u001b[1m0s\u001b[0m 16ms/step - accuracy: 0.2048 - loss: 0.4487\n",
            "Epoch 15/50\n",
            "\u001b[1m7/7\u001b[0m \u001b[32m━━━━━━━━━━━━━━━━━━━━\u001b[0m\u001b[37m\u001b[0m \u001b[1m0s\u001b[0m 6ms/step - accuracy: 0.2314 - loss: 0.4322  \n",
            "Epoch 16/50\n",
            "\u001b[1m7/7\u001b[0m \u001b[32m━━━━━━━━━━━━━━━━━━━━\u001b[0m\u001b[37m\u001b[0m \u001b[1m0s\u001b[0m 6ms/step - accuracy: 0.2491 - loss: 0.4132 \n",
            "Epoch 17/50\n",
            "\u001b[1m7/7\u001b[0m \u001b[32m━━━━━━━━━━━━━━━━━━━━\u001b[0m\u001b[37m\u001b[0m \u001b[1m0s\u001b[0m 7ms/step - accuracy: 0.2522 - loss: 0.4437  \n",
            "Epoch 18/50\n",
            "\u001b[1m7/7\u001b[0m \u001b[32m━━━━━━━━━━━━━━━━━━━━\u001b[0m\u001b[37m\u001b[0m \u001b[1m0s\u001b[0m 6ms/step - accuracy: 0.2738 - loss: 0.3826 \n",
            "Epoch 19/50\n",
            "\u001b[1m7/7\u001b[0m \u001b[32m━━━━━━━━━━━━━━━━━━━━\u001b[0m\u001b[37m\u001b[0m \u001b[1m0s\u001b[0m 5ms/step - accuracy: 0.1832 - loss: 0.4525     \n",
            "Epoch 20/50\n",
            "\u001b[1m7/7\u001b[0m \u001b[32m━━━━━━━━━━━━━━━━━━━━\u001b[0m\u001b[37m\u001b[0m \u001b[1m0s\u001b[0m 6ms/step - accuracy: 0.2431 - loss: 0.4240 \n",
            "Epoch 21/50\n",
            "\u001b[1m7/7\u001b[0m \u001b[32m━━━━━━━━━━━━━━━━━━━━\u001b[0m\u001b[37m\u001b[0m \u001b[1m0s\u001b[0m 5ms/step - accuracy: 0.1993 - loss: 0.4510 \n",
            "Epoch 22/50\n",
            "\u001b[1m7/7\u001b[0m \u001b[32m━━━━━━━━━━━━━━━━━━━━\u001b[0m\u001b[37m\u001b[0m \u001b[1m0s\u001b[0m 6ms/step - accuracy: 0.2754 - loss: 0.3832 \n",
            "Epoch 23/50\n",
            "\u001b[1m7/7\u001b[0m \u001b[32m━━━━━━━━━━━━━━━━━━━━\u001b[0m\u001b[37m\u001b[0m \u001b[1m0s\u001b[0m 6ms/step - accuracy: 0.1996 - loss: 0.4431  \n",
            "Epoch 24/50\n",
            "\u001b[1m7/7\u001b[0m \u001b[32m━━━━━━━━━━━━━━━━━━━━\u001b[0m\u001b[37m\u001b[0m \u001b[1m0s\u001b[0m 6ms/step - accuracy: 0.2811 - loss: 0.4044  \n",
            "Epoch 25/50\n",
            "\u001b[1m7/7\u001b[0m \u001b[32m━━━━━━━━━━━━━━━━━━━━\u001b[0m\u001b[37m\u001b[0m \u001b[1m0s\u001b[0m 6ms/step - accuracy: 0.1988 - loss: 0.4487     \n",
            "Epoch 26/50\n",
            "\u001b[1m7/7\u001b[0m \u001b[32m━━━━━━━━━━━━━━━━━━━━\u001b[0m\u001b[37m\u001b[0m \u001b[1m0s\u001b[0m 6ms/step - accuracy: 0.1923 - loss: 0.4287      \n",
            "Epoch 27/50\n",
            "\u001b[1m7/7\u001b[0m \u001b[32m━━━━━━━━━━━━━━━━━━━━\u001b[0m\u001b[37m\u001b[0m \u001b[1m0s\u001b[0m 6ms/step - accuracy: 0.2730 - loss: 0.3959  \n",
            "Epoch 28/50\n",
            "\u001b[1m7/7\u001b[0m \u001b[32m━━━━━━━━━━━━━━━━━━━━\u001b[0m\u001b[37m\u001b[0m \u001b[1m0s\u001b[0m 5ms/step - accuracy: 0.2379 - loss: 0.3866 \n",
            "Epoch 29/50\n",
            "\u001b[1m7/7\u001b[0m \u001b[32m━━━━━━━━━━━━━━━━━━━━\u001b[0m\u001b[37m\u001b[0m \u001b[1m0s\u001b[0m 15ms/step - accuracy: 0.3470 - loss: 0.3648\n",
            "Epoch 30/50\n",
            "\u001b[1m7/7\u001b[0m \u001b[32m━━━━━━━━━━━━━━━━━━━━\u001b[0m\u001b[37m\u001b[0m \u001b[1m0s\u001b[0m 6ms/step - accuracy: 0.2173 - loss: 0.4360  \n",
            "Epoch 31/50\n",
            "\u001b[1m7/7\u001b[0m \u001b[32m━━━━━━━━━━━━━━━━━━━━\u001b[0m\u001b[37m\u001b[0m \u001b[1m0s\u001b[0m 7ms/step - accuracy: 0.2144 - loss: 0.4190  \n",
            "Epoch 32/50\n",
            "\u001b[1m7/7\u001b[0m \u001b[32m━━━━━━━━━━━━━━━━━━━━\u001b[0m\u001b[37m\u001b[0m \u001b[1m0s\u001b[0m 6ms/step - accuracy: 0.2397 - loss: 0.4035  \n",
            "Epoch 33/50\n",
            "\u001b[1m7/7\u001b[0m \u001b[32m━━━━━━━━━━━━━━━━━━━━\u001b[0m\u001b[37m\u001b[0m \u001b[1m0s\u001b[0m 6ms/step - accuracy: 0.2327 - loss: 0.4100 \n",
            "Epoch 34/50\n",
            "\u001b[1m7/7\u001b[0m \u001b[32m━━━━━━━━━━━━━━━━━━━━\u001b[0m\u001b[37m\u001b[0m \u001b[1m0s\u001b[0m 12ms/step - accuracy: 0.2621 - loss: 0.3972 \n",
            "Epoch 35/50\n",
            "\u001b[1m7/7\u001b[0m \u001b[32m━━━━━━━━━━━━━━━━━━━━\u001b[0m\u001b[37m\u001b[0m \u001b[1m0s\u001b[0m 6ms/step - accuracy: 0.2217 - loss: 0.3748 \n",
            "Epoch 36/50\n",
            "\u001b[1m7/7\u001b[0m \u001b[32m━━━━━━━━━━━━━━━━━━━━\u001b[0m\u001b[37m\u001b[0m \u001b[1m0s\u001b[0m 6ms/step - accuracy: 0.2306 - loss: 0.3865  \n",
            "Epoch 37/50\n",
            "\u001b[1m7/7\u001b[0m \u001b[32m━━━━━━━━━━━━━━━━━━━━\u001b[0m\u001b[37m\u001b[0m \u001b[1m0s\u001b[0m 5ms/step - accuracy: 0.2761 - loss: 0.3642 \n",
            "Epoch 38/50\n",
            "\u001b[1m7/7\u001b[0m \u001b[32m━━━━━━━━━━━━━━━━━━━━\u001b[0m\u001b[37m\u001b[0m \u001b[1m0s\u001b[0m 6ms/step - accuracy: 0.2001 - loss: 0.4030 \n",
            "Epoch 39/50\n",
            "\u001b[1m7/7\u001b[0m \u001b[32m━━━━━━━━━━━━━━━━━━━━\u001b[0m\u001b[37m\u001b[0m \u001b[1m0s\u001b[0m 6ms/step - accuracy: 0.2389 - loss: 0.4482 \n",
            "Epoch 40/50\n",
            "\u001b[1m7/7\u001b[0m \u001b[32m━━━━━━━━━━━━━━━━━━━━\u001b[0m\u001b[37m\u001b[0m \u001b[1m0s\u001b[0m 6ms/step - accuracy: 0.2269 - loss: 0.4070  \n",
            "Epoch 41/50\n",
            "\u001b[1m7/7\u001b[0m \u001b[32m━━━━━━━━━━━━━━━━━━━━\u001b[0m\u001b[37m\u001b[0m \u001b[1m0s\u001b[0m 25ms/step - accuracy: 0.2301 - loss: 0.4104\n",
            "Epoch 42/50\n",
            "\u001b[1m7/7\u001b[0m \u001b[32m━━━━━━━━━━━━━━━━━━━━\u001b[0m\u001b[37m\u001b[0m \u001b[1m0s\u001b[0m 6ms/step - accuracy: 0.2215 - loss: 0.3947  \n",
            "Epoch 43/50\n",
            "\u001b[1m7/7\u001b[0m \u001b[32m━━━━━━━━━━━━━━━━━━━━\u001b[0m\u001b[37m\u001b[0m \u001b[1m0s\u001b[0m 8ms/step - accuracy: 0.2798 - loss: 0.3625  \n",
            "Epoch 44/50\n",
            "\u001b[1m7/7\u001b[0m \u001b[32m━━━━━━━━━━━━━━━━━━━━\u001b[0m\u001b[37m\u001b[0m \u001b[1m0s\u001b[0m 6ms/step - accuracy: 0.1767 - loss: 0.3601     \n",
            "Epoch 45/50\n",
            "\u001b[1m7/7\u001b[0m \u001b[32m━━━━━━━━━━━━━━━━━━━━\u001b[0m\u001b[37m\u001b[0m \u001b[1m0s\u001b[0m 6ms/step - accuracy: 0.2618 - loss: 0.3638 \n",
            "Epoch 46/50\n",
            "\u001b[1m7/7\u001b[0m \u001b[32m━━━━━━━━━━━━━━━━━━━━\u001b[0m\u001b[37m\u001b[0m \u001b[1m0s\u001b[0m 5ms/step - accuracy: 0.2605 - loss: 0.3568 \n",
            "Epoch 47/50\n",
            "\u001b[1m7/7\u001b[0m \u001b[32m━━━━━━━━━━━━━━━━━━━━\u001b[0m\u001b[37m\u001b[0m \u001b[1m0s\u001b[0m 6ms/step - accuracy: 0.2879 - loss: 0.3611 \n",
            "Epoch 48/50\n",
            "\u001b[1m7/7\u001b[0m \u001b[32m━━━━━━━━━━━━━━━━━━━━\u001b[0m\u001b[37m\u001b[0m \u001b[1m0s\u001b[0m 6ms/step - accuracy: 0.2379 - loss: 0.3376  \n",
            "Epoch 49/50\n",
            "\u001b[1m7/7\u001b[0m \u001b[32m━━━━━━━━━━━━━━━━━━━━\u001b[0m\u001b[37m\u001b[0m \u001b[1m0s\u001b[0m 8ms/step - accuracy: 0.1616 - loss: 0.4082     \n",
            "Epoch 50/50\n",
            "\u001b[1m7/7\u001b[0m \u001b[32m━━━━━━━━━━━━━━━━━━━━\u001b[0m\u001b[37m\u001b[0m \u001b[1m0s\u001b[0m 10ms/step - accuracy: 0.2501 - loss: 0.3950\n"
          ]
        },
        {
          "data": {
            "text/plain": [
              "<keras.src.callbacks.history.History at 0x7ed2b418d6d0>"
            ]
          },
          "execution_count": 28,
          "metadata": {},
          "output_type": "execute_result"
        }
      ],
      "source": [
        "# 4. Train model\n",
        "model.fit(X, Y, epochs=50, batch_size=8)\n"
      ]
    },
    {
      "cell_type": "code",
      "execution_count": null,
      "metadata": {
        "colab": {
          "base_uri": "https://localhost:8080/"
        },
        "id": "jfm-XKuBywS2",
        "outputId": "1e0fa895-8d0d-45db-9048-ecc0861b7864"
      },
      "outputs": [
        {
          "name": "stdout",
          "output_type": "stream",
          "text": [
            "\u001b[1m2/2\u001b[0m \u001b[32m━━━━━━━━━━━━━━━━━━━━\u001b[0m\u001b[37m\u001b[0m \u001b[1m0s\u001b[0m 20ms/step\n"
          ]
        }
      ],
      "source": [
        "\n",
        "# 5. Test model\n",
        "predictions = model.predict(X)"
      ]
    },
    {
      "cell_type": "markdown",
      "metadata": {
        "id": "0KpG30JDm3V5"
      },
      "source": [
        "Evaluate Model Performance"
      ]
    },
    {
      "cell_type": "code",
      "execution_count": null,
      "metadata": {
        "colab": {
          "base_uri": "https://localhost:8080/"
        },
        "id": "YlcKuAoSm4Do",
        "outputId": "bbe97187-a7b3-4825-b548-5dbc17da1a3b"
      },
      "outputs": [
        {
          "name": "stdout",
          "output_type": "stream",
          "text": [
            "\u001b[1m2/2\u001b[0m \u001b[32m━━━━━━━━━━━━━━━━━━━━\u001b[0m\u001b[37m\u001b[0m \u001b[1m0s\u001b[0m 74ms/step\n",
            "Irrigate Accuracy: 0.86\n",
            "Deploy Equipment Accuracy: 0.92\n",
            "Irrigate Classification Report:\n",
            "               precision    recall  f1-score   support\n",
            "\n",
            "           0       0.86      1.00      0.92        43\n",
            "           1       0.00      0.00      0.00         7\n",
            "\n",
            "    accuracy                           0.86        50\n",
            "   macro avg       0.43      0.50      0.46        50\n",
            "weighted avg       0.74      0.86      0.80        50\n",
            "\n",
            "Deploy Equipment Classification Report:\n",
            "               precision    recall  f1-score   support\n",
            "\n",
            "           0       0.92      0.97      0.94        35\n",
            "           1       0.92      0.80      0.86        15\n",
            "\n",
            "    accuracy                           0.92        50\n",
            "   macro avg       0.92      0.89      0.90        50\n",
            "weighted avg       0.92      0.92      0.92        50\n",
            "\n",
            "Irrigate Confusion Matrix:\n",
            " [[43  0]\n",
            " [ 7  0]]\n",
            "Deploy Equipment Confusion Matrix:\n",
            " [[34  1]\n",
            " [ 3 12]]\n"
          ]
        },
        {
          "name": "stderr",
          "output_type": "stream",
          "text": [
            "/usr/local/lib/python3.11/dist-packages/sklearn/metrics/_classification.py:1565: UndefinedMetricWarning: Precision is ill-defined and being set to 0.0 in labels with no predicted samples. Use `zero_division` parameter to control this behavior.\n",
            "  _warn_prf(average, modifier, f\"{metric.capitalize()} is\", len(result))\n",
            "/usr/local/lib/python3.11/dist-packages/sklearn/metrics/_classification.py:1565: UndefinedMetricWarning: Precision is ill-defined and being set to 0.0 in labels with no predicted samples. Use `zero_division` parameter to control this behavior.\n",
            "  _warn_prf(average, modifier, f\"{metric.capitalize()} is\", len(result))\n",
            "/usr/local/lib/python3.11/dist-packages/sklearn/metrics/_classification.py:1565: UndefinedMetricWarning: Precision is ill-defined and being set to 0.0 in labels with no predicted samples. Use `zero_division` parameter to control this behavior.\n",
            "  _warn_prf(average, modifier, f\"{metric.capitalize()} is\", len(result))\n"
          ]
        }
      ],
      "source": [
        "from sklearn.metrics import accuracy_score, classification_report,confusion_matrix\n",
        "\n",
        "# Convert predicted probabilities to binary (0 or 1)\n",
        "y_pred = (model.predict(X) > 0.5).astype(int)\n",
        "\n",
        "# Evaluate for each output (Irrigate and Deploy Equipment)\n",
        "print(\"Irrigate Accuracy:\", accuracy_score(Y[:,0], y_pred[:,0]))\n",
        "print(\"Deploy Equipment Accuracy:\", accuracy_score(Y[:,1], y_pred[:,1]))\n",
        "\n",
        "print(\"Irrigate Classification Report:\\n\", classification_report(Y[:,0], y_pred[:,0]))\n",
        "print(\"Deploy Equipment Classification Report:\\n\", classification_report(Y[:,1], y_pred[:,1]))\n",
        "\n",
        "print(\"Irrigate Confusion Matrix:\\n\", confusion_matrix(Y[:,0], y_pred[:,0]))\n",
        "print(\"Deploy Equipment Confusion Matrix:\\n\", confusion_matrix(Y[:,1], y_pred[:,1]))\n"
      ]
    },
    {
      "cell_type": "markdown",
      "metadata": {
        "id": "VdbLLW4Hv5HS"
      },
      "source": [
        "\n",
        "#Irrigate\n",
        "\n",
        "Precision for class 0 (Don’t Irrigate): 0.86 — When the model predicts “Don’t Irrigate,” it is correct 86% of the time.\n",
        "\n",
        "Recall for class 0: 1.00 — The model correctly identifies all actual “Don’t Irrigate” cases.\n",
        "\n",
        "Precision/Recall for class 1 (Irrigate): 0.00 — The model fails to correctly predict any “Irrigate” cases.\n",
        "\n",
        "Interpretation:\n",
        "\n",
        "Your model is very good at predicting when NOT to irrigate, but it is missing all the cases where irrigation should be ON. This is likely because there are very few “Irrigate” (class 1) cases in your data (only 7 out of 50), causing the model to be biased toward the majority class.\n",
        "\n",
        "\n",
        "Precision is about the model’s predictions for a class.\n",
        "\n",
        "\n",
        "Recall is about the actual cases of that class in the data."
      ]
    },
    {
      "cell_type": "markdown",
      "metadata": {
        "id": "-WenTZyk7QBq"
      },
      "source": [
        "#Deployement\n",
        "Precision for class 0 (Don’t Deploy): 0.79 — When the model predicts “Don’t Deploy,” it is correct 79% of the time.\n",
        "\n",
        "Recall for class 0: 0.97 — The model correctly identifies almost all actual “Don’t Deploy” cases.\n",
        "\n",
        "Precision for class 1 (Deploy): 0.86 — When the model predicts “Deploy,” it is correct 86% of the time.\n",
        "\n",
        "Recall for class 1: 0.40 — The model only catches 40% of the actual “Deploy” cases.\n",
        "\n",
        "Interpretation:\n",
        "\n",
        "The model is good at identifying when NOT to deploy equipment.\n",
        "\n",
        "It is less reliable at catching all the times when you SHOULD deploy equipment (misses 60% of those cases).\n",
        "\n",
        "However, when it does predict “Deploy,” it’s usually correct."
      ]
    },
    {
      "cell_type": "code",
      "execution_count": null,
      "metadata": {
        "colab": {
          "base_uri": "https://localhost:8080/"
        },
        "id": "AZmtUwvcnqi3",
        "outputId": "32c40bc8-3458-4060-f519-94741f9a8d8e"
      },
      "outputs": [
        {
          "name": "stdout",
          "output_type": "stream",
          "text": [
            "\u001b[1m1/1\u001b[0m \u001b[32m━━━━━━━━━━━━━━━━━━━━\u001b[0m\u001b[37m\u001b[0m \u001b[1m0s\u001b[0m 40ms/step\n",
            "Irrigate: OFF\n",
            "Deploy Equipment: YES\n"
          ]
        }
      ],
      "source": [
        "# Example new data row\n",
        "new_data = np.array([[1, 0, 1, 0, 1, 0]])  # Replace with actual test values\n",
        "prediction = (model.predict(new_data) > 0.5).astype(int)\n",
        "print(\"Irrigate:\", \"ON\" if prediction[0,0] else \"OFF\")\n",
        "print(\"Deploy Equipment:\", \"YES\" if prediction[0,1] else \"NO\")\n"
      ]
    },
    {
      "cell_type": "markdown",
      "metadata": {
        "id": "ME984ZAy8m-l"
      },
      "source": [
        "Program #2: A startup named SmartFarm AI is building a solution for\n",
        "predicting crop yield to assist farmers in improving productivity. The startup\n",
        "has collected the following data from hundreds of farms over the last five\n",
        "years:"
      ]
    },
    {
      "cell_type": "markdown",
      "metadata": {
        "id": "R6P6Fo3a-W_L"
      },
      "source": [
        "#Objective\n",
        "Model Development for SmartFarm AI involves:\n",
        "\n",
        "Building both regression models (to predict the exact crop yield) and classification models (to label yields as high or low).\n",
        "\n",
        "Trying at least two different loss functions for each model type.\n",
        "\n",
        "Using at least two different optimizers to compare their impact.\n",
        "\n"
      ]
    },
    {
      "cell_type": "code",
      "execution_count": null,
      "metadata": {
        "id": "8HJ4klIG8ny8"
      },
      "outputs": [],
      "source": [
        "#Data Creation\n",
        "import numpy as np\n",
        "import pandas as pd\n",
        "from sklearn.preprocessing import MinMaxScaler\n",
        "\n",
        "# 1. Simulate the synthetic dataset\n",
        "np.random.seed(42)  # For reproducibility\n",
        "n_samples = 50\n",
        "\n",
        "# Generate features\n",
        "rainfall = np.random.uniform(300, 1200, n_samples)           # mm\n",
        "avg_temp = np.random.uniform(15, 35, n_samples)              # °C\n",
        "soil_ph = np.random.uniform(5.5, 8.0, n_samples)\n",
        "fertilizer = np.random.uniform(50, 300, n_samples)           # kg/hectare\n",
        "pesticide = np.random.uniform(1, 10, n_samples)              # kg/hectare\n",
        "crop_type = np.random.choice(['wheat', 'rice', 'maize'], n_samples)\n",
        "\n",
        "# Simulate yield (for demonstration, a simple function)\n",
        "yield_ = (\n",
        "    20 + 0.01 * rainfall +\n",
        "    0.5 * avg_temp -\n",
        "    2 * np.abs(soil_ph - 6.5) +\n",
        "    0.03 * fertilizer -\n",
        "    0.1 * pesticide +\n",
        "    np.random.normal(0, 2, n_samples)\n",
        ")\n",
        "\n",
        "# Create DataFrame\n",
        "df = pd.DataFrame({\n",
        "    'Rainfall': rainfall,\n",
        "    'Avg_Temperature': avg_temp,\n",
        "    'Soil_pH': soil_ph,\n",
        "    'Fertilizer_Usage': fertilizer,\n",
        "    'Pesticide_Usage': pesticide,\n",
        "    'Crop_Type': crop_type,\n",
        "    'Yield': yield_\n",
        "})\n",
        "\n"
      ]
    },
    {
      "cell_type": "code",
      "execution_count": null,
      "metadata": {
        "id": "UZBpFw8t9DMP"
      },
      "outputs": [],
      "source": [
        "# 2. Encode categorical variables (one-hot encoding for Crop_Type)\n",
        "df_encoded = pd.get_dummies(df, columns=['Crop_Type'])\n",
        "\n",
        "\n"
      ]
    },
    {
      "cell_type": "code",
      "execution_count": null,
      "metadata": {
        "colab": {
          "base_uri": "https://localhost:8080/"
        },
        "id": "muEqaBZM9Fkg",
        "outputId": "bfab5adf-ed17-423b-c06a-b0c1148d8dd4"
      },
      "outputs": [
        {
          "name": "stdout",
          "output_type": "stream",
          "text": [
            "   Rainfall  Avg_Temperature   Soil_pH  Fertilizer_Usage  Pesticide_Usage  \\\n",
            "0  0.372850         0.982369  0.025369          0.920145         0.658062   \n",
            "1  0.979780         0.784225  0.652403          0.230093         0.081697   \n",
            "2  0.749384         0.951712  0.318609          0.132403         0.161751   \n",
            "3  0.608931         0.906192  0.519904          0.487961         0.923078   \n",
            "4  0.142664         0.603627  0.933444          1.000000         0.621280   \n",
            "\n",
            "       Yield  Crop_Type_maize  Crop_Type_rice  Crop_Type_wheat  \n",
            "0  53.137114             True           False            False  \n",
            "1  47.395084            False           False             True  \n",
            "2  46.569135            False           False             True  \n",
            "3  47.645477             True           False            False  \n",
            "4  42.766404            False           False             True  \n"
          ]
        }
      ],
      "source": [
        "# 3. Normalize numerical features (Min-Max scaling)\n",
        "scaler = MinMaxScaler()\n",
        "numerical_features = ['Rainfall', 'Avg_Temperature', 'Soil_pH', 'Fertilizer_Usage', 'Pesticide_Usage']\n",
        "df_encoded[numerical_features] = scaler.fit_transform(df_encoded[numerical_features])\n",
        "\n",
        "# Display the first few rows\n",
        "print(df_encoded.head())"
      ]
    },
    {
      "cell_type": "markdown",
      "metadata": {
        "id": "2hCXHYJK_PmK"
      },
      "source": [
        "3.Model Development"
      ]
    },
    {
      "cell_type": "code",
      "execution_count": null,
      "metadata": {
        "id": "oBh0L1OF_Rx8"
      },
      "outputs": [],
      "source": [
        "import numpy as np\n",
        "import pandas as pd\n",
        "from sklearn.model_selection import train_test_split\n",
        "from sklearn.metrics import mean_squared_error, mean_absolute_error, r2_score, accuracy_score, precision_score, recall_score, f1_score\n",
        "from tensorflow import keras\n",
        "from tensorflow.keras import layers, optimizers\n",
        "\n",
        "\n",
        "# For regression\n",
        "X = df_encoded.drop('Yield', axis=1).values\n",
        "y_reg = df_encoded['Yield'].values\n",
        "\n",
        "# For classification: High yield if above median\n",
        "median_yield = np.median(y_reg)\n",
        "y_clf = (y_reg > median_yield).astype(int)\n",
        "\n",
        "X_train, X_test, y_reg_train, y_reg_test, y_clf_train, y_clf_test = train_test_split(\n",
        "    X, y_reg, y_clf, test_size=0.2, random_state=42\n",
        ")\n",
        "\n"
      ]
    },
    {
      "cell_type": "markdown",
      "metadata": {
        "id": "AZ64M1ukBMp-"
      },
      "source": [
        "This code separates the features and yield values from the dataset for regression modeling. It then creates a binary classification target by labeling yields above the median as \"high yield\" and the rest as \"low yield.\" The data is split into training and testing sets to enable model training and evaluation. This setup prepares the data for both regression and classification tasks in the crop yield prediction project."
      ]
    },
    {
      "cell_type": "code",
      "execution_count": null,
      "metadata": {
        "id": "BWQ7lyTIBN71"
      },
      "outputs": [],
      "source": []
    },
    {
      "cell_type": "code",
      "execution_count": null,
      "metadata": {
        "colab": {
          "base_uri": "https://localhost:8080/"
        },
        "id": "aWJMy2l4_dNr",
        "outputId": "0c4a815d-b75c-4662-bc43-c9967859aa03"
      },
      "outputs": [
        {
          "name": "stderr",
          "output_type": "stream",
          "text": [
            "/usr/local/lib/python3.11/dist-packages/keras/src/layers/core/dense.py:87: UserWarning: Do not pass an `input_shape`/`input_dim` argument to a layer. When using Sequential models, prefer using an `Input(shape)` object as the first layer in the model instead.\n",
            "  super().__init__(activity_regularizer=activity_regularizer, **kwargs)\n"
          ]
        },
        {
          "name": "stdout",
          "output_type": "stream",
          "text": [
            "\u001b[1m1/1\u001b[0m \u001b[32m━━━━━━━━━━━━━━━━━━━━\u001b[0m\u001b[37m\u001b[0m \u001b[1m0s\u001b[0m 81ms/step\n"
          ]
        },
        {
          "name": "stderr",
          "output_type": "stream",
          "text": [
            "/usr/local/lib/python3.11/dist-packages/keras/src/layers/core/dense.py:87: UserWarning: Do not pass an `input_shape`/`input_dim` argument to a layer. When using Sequential models, prefer using an `Input(shape)` object as the first layer in the model instead.\n",
            "  super().__init__(activity_regularizer=activity_regularizer, **kwargs)\n"
          ]
        },
        {
          "name": "stdout",
          "output_type": "stream",
          "text": [
            "\u001b[1m1/1\u001b[0m \u001b[32m━━━━━━━━━━━━━━━━━━━━\u001b[0m\u001b[37m\u001b[0m \u001b[1m0s\u001b[0m 70ms/step\n"
          ]
        },
        {
          "name": "stderr",
          "output_type": "stream",
          "text": [
            "/usr/local/lib/python3.11/dist-packages/keras/src/layers/core/dense.py:87: UserWarning: Do not pass an `input_shape`/`input_dim` argument to a layer. When using Sequential models, prefer using an `Input(shape)` object as the first layer in the model instead.\n",
            "  super().__init__(activity_regularizer=activity_regularizer, **kwargs)\n"
          ]
        },
        {
          "name": "stdout",
          "output_type": "stream",
          "text": [
            "\u001b[1m1/1\u001b[0m \u001b[32m━━━━━━━━━━━━━━━━━━━━\u001b[0m\u001b[37m\u001b[0m \u001b[1m0s\u001b[0m 73ms/step\n"
          ]
        },
        {
          "name": "stderr",
          "output_type": "stream",
          "text": [
            "/usr/local/lib/python3.11/dist-packages/keras/src/layers/core/dense.py:87: UserWarning: Do not pass an `input_shape`/`input_dim` argument to a layer. When using Sequential models, prefer using an `Input(shape)` object as the first layer in the model instead.\n",
            "  super().__init__(activity_regularizer=activity_regularizer, **kwargs)\n"
          ]
        },
        {
          "name": "stdout",
          "output_type": "stream",
          "text": [
            "\u001b[1m1/1\u001b[0m \u001b[32m━━━━━━━━━━━━━━━━━━━━\u001b[0m\u001b[37m\u001b[0m \u001b[1m0s\u001b[0m 80ms/step\n",
            "Regression Results:\n",
            "  Loss Optimizer          MSE        MAE          R2\n",
            "0  mse      adam  1709.062597  41.261840 -190.805948\n",
            "1  mse       sgd    65.353050   7.512834   -6.334491\n",
            "2  mae      adam  1732.123409  41.535028 -193.394034\n",
            "3  mae       sgd  1690.001991  41.017279 -188.666801\n"
          ]
        }
      ],
      "source": [
        "# --- 2. Regression Models (Keras) ---\n",
        "\n",
        "def build_regression_model(loss_fn, optimizer):\n",
        "    model = keras.Sequential([\n",
        "        layers.Dense(16, activation='relu', input_shape=(X.shape[1],)),\n",
        "        layers.Dense(8, activation='relu'),\n",
        "        layers.Dense(1)\n",
        "    ])\n",
        "    model.compile(optimizer=optimizer, loss=loss_fn)\n",
        "    return model\n",
        "\n",
        "regression_results = []\n",
        "\n",
        "# Convert boolean columns to integers\n",
        "X_train = X_train.astype(np.float32)\n",
        "X_test = X_test.astype(np.float32)\n",
        "\n",
        "for loss_fn in ['mse', 'mae']:\n",
        "    for opt_name in ['adam', 'sgd']:\n",
        "        model = build_regression_model(loss_fn, opt_name)\n",
        "        model.fit(X_train, y_reg_train, epochs=50, verbose=0)\n",
        "        y_pred = model.predict(X_test).flatten()\n",
        "        regression_results.append({\n",
        "            'Loss': loss_fn,\n",
        "            'Optimizer': opt_name,\n",
        "            'MSE': mean_squared_error(y_reg_test, y_pred),\n",
        "            'MAE': mean_absolute_error(y_reg_test, y_pred),\n",
        "            'R2': r2_score(y_reg_test, y_pred)\n",
        "        })\n",
        "print(\"Regression Results:\")\n",
        "print(pd.DataFrame(regression_results))"
      ]
    },
    {
      "cell_type": "markdown",
      "metadata": {
        "id": "V-r9dAMVEFjQ"
      },
      "source": [
        "Interpretation of the Results\n",
        "\n",
        "Sgd for Stochastic Gradient Descent\n",
        "\n",
        "Adam Adaptive Moment Estimation. It is a popular optimizer used in training machine learning models, especially neural networks.\n",
        "\n",
        "Even though SGD with MSE loss gave the lowest error numbers in your table, the R2 score is still very negative (R2 = -6.33).\n",
        "\n",
        "A negative R2 score means the model’s predictions are worse than simply guessing the average yield every time.\n",
        "\n",
        "This indicates that, although this combination was the “best” among those tested, none of the models actually predicted yield well on this dataset.\n",
        "\n",
        "Why does this matter?\n",
        "\n",
        "It shows that choosing the right model and having good data are both crucial for accurate crop yield prediction.\n",
        "\n",
        "Sometimes, neural networks may not work well on small or simple datasets, and other models (like linear regression or random forest) might be better."
      ]
    },
    {
      "cell_type": "code",
      "execution_count": null,
      "metadata": {
        "colab": {
          "base_uri": "https://localhost:8080/"
        },
        "id": "tjn3J9zDEikJ",
        "outputId": "c03c8d55-0755-4ab7-b9f9-c5ad88b6a7f2"
      },
      "outputs": [
        {
          "name": "stderr",
          "output_type": "stream",
          "text": [
            "/usr/local/lib/python3.11/dist-packages/keras/src/layers/core/dense.py:87: UserWarning: Do not pass an `input_shape`/`input_dim` argument to a layer. When using Sequential models, prefer using an `Input(shape)` object as the first layer in the model instead.\n",
            "  super().__init__(activity_regularizer=activity_regularizer, **kwargs)\n"
          ]
        },
        {
          "name": "stdout",
          "output_type": "stream",
          "text": [
            "\u001b[1m1/1\u001b[0m \u001b[32m━━━━━━━━━━━━━━━━━━━━\u001b[0m\u001b[37m\u001b[0m \u001b[1m0s\u001b[0m 86ms/step\n"
          ]
        },
        {
          "name": "stderr",
          "output_type": "stream",
          "text": [
            "/usr/local/lib/python3.11/dist-packages/keras/src/layers/core/dense.py:87: UserWarning: Do not pass an `input_shape`/`input_dim` argument to a layer. When using Sequential models, prefer using an `Input(shape)` object as the first layer in the model instead.\n",
            "  super().__init__(activity_regularizer=activity_regularizer, **kwargs)\n"
          ]
        },
        {
          "name": "stdout",
          "output_type": "stream",
          "text": [
            "\u001b[1m1/1\u001b[0m \u001b[32m━━━━━━━━━━━━━━━━━━━━\u001b[0m\u001b[37m\u001b[0m \u001b[1m0s\u001b[0m 70ms/step\n"
          ]
        },
        {
          "name": "stderr",
          "output_type": "stream",
          "text": [
            "/usr/local/lib/python3.11/dist-packages/keras/src/layers/core/dense.py:87: UserWarning: Do not pass an `input_shape`/`input_dim` argument to a layer. When using Sequential models, prefer using an `Input(shape)` object as the first layer in the model instead.\n",
            "  super().__init__(activity_regularizer=activity_regularizer, **kwargs)\n"
          ]
        },
        {
          "name": "stdout",
          "output_type": "stream",
          "text": [
            "\u001b[1m1/1\u001b[0m \u001b[32m━━━━━━━━━━━━━━━━━━━━\u001b[0m\u001b[37m\u001b[0m \u001b[1m0s\u001b[0m 119ms/step\n"
          ]
        },
        {
          "name": "stderr",
          "output_type": "stream",
          "text": [
            "/usr/local/lib/python3.11/dist-packages/keras/src/layers/core/dense.py:87: UserWarning: Do not pass an `input_shape`/`input_dim` argument to a layer. When using Sequential models, prefer using an `Input(shape)` object as the first layer in the model instead.\n",
            "  super().__init__(activity_regularizer=activity_regularizer, **kwargs)\n"
          ]
        },
        {
          "name": "stdout",
          "output_type": "stream",
          "text": [
            "\u001b[1m1/1\u001b[0m \u001b[32m━━━━━━━━━━━━━━━━━━━━\u001b[0m\u001b[37m\u001b[0m \u001b[1m0s\u001b[0m 71ms/step\n",
            "\n",
            "Classification Results:\n",
            "                  Loss Optimizer  Accuracy  Precision  Recall        F1\n",
            "0  binary_crossentropy      adam       0.6   0.500000     1.0  0.666667\n",
            "1  binary_crossentropy       sgd       0.8   0.666667     1.0  0.800000\n",
            "2                hinge      adam       0.5   0.444444     1.0  0.615385\n",
            "3                hinge       sgd       0.5   0.444444     1.0  0.615385\n"
          ]
        }
      ],
      "source": [
        "# --- 3. Classification Models (Keras) ---\n",
        "\n",
        "def build_classification_model(loss_fn, optimizer):\n",
        "    model = keras.Sequential([\n",
        "        layers.Dense(16, activation='relu', input_shape=(X.shape[1],)),\n",
        "        layers.Dense(8, activation='relu'),\n",
        "        layers.Dense(1, activation='sigmoid')\n",
        "    ])\n",
        "    model.compile(optimizer=optimizer, loss=loss_fn, metrics=['accuracy'])\n",
        "    return model\n",
        "\n",
        "classification_results = []\n",
        "\n",
        "for loss_fn in ['binary_crossentropy', 'hinge']:\n",
        "    for opt_name in ['adam', 'sgd']:\n",
        "        model = build_classification_model(loss_fn, opt_name)\n",
        "        model.fit(X_train, y_clf_train, epochs=50, verbose=0)\n",
        "        y_pred_prob = model.predict(X_test).flatten()\n",
        "        y_pred = (y_pred_prob > 0.5).astype(int)\n",
        "        classification_results.append({\n",
        "            'Loss': loss_fn,\n",
        "            'Optimizer': opt_name,\n",
        "            'Accuracy': accuracy_score(y_clf_test, y_pred),\n",
        "            'Precision': precision_score(y_clf_test, y_pred),\n",
        "            'Recall': recall_score(y_clf_test, y_pred),\n",
        "            'F1': f1_score(y_clf_test, y_pred)\n",
        "        })\n",
        "\n",
        "print(\"\\nClassification Results:\")\n",
        "print(pd.DataFrame(classification_results))"
      ]
    },
    {
      "cell_type": "markdown",
      "metadata": {
        "id": "RWWgf3yBF3z-"
      },
      "source": [
        "Why We Did This\n",
        "\n",
        "To find out which combination of loss function and optimizer gives the most accurate and reliable predictions for classifying crop yields.\n",
        "\n",
        "Summary\n",
        "\n",
        "Four neural network classification models were evaluated using two loss functions (binary crossentropy, hinge) and two optimizers (Adam, SGD).\n",
        "\n",
        "The best result came from the combination of binary crossentropy loss with SGD optimizer, which achieved the highest accuracy (0.8) and F1 score (0.8).\n",
        "\n",
        "Other combinations, especially those using hinge loss, performed worse, with accuracy and F1 scores of only 0.5–0.67.\n",
        "\n",
        "All models achieved perfect recall (1.0), meaning they identified all positive (high yield) cases, but their precision varied, indicating some false positives.\n",
        "\n",
        "Interpretation\n",
        "\n",
        "Best Model:\n",
        "\n",
        "Binary crossentropy with SGD is the most effective for this classification task, providing the best balance between accuracy and F1 score.\n",
        "\n",
        "Recall (1.0) for all models:\n",
        "\n",
        "The models always correctly identified all high yield cases, but sometimes at the cost of mislabeling low yield cases as high yield (lower precision).\n",
        "\n",
        "Precision and F1:\n",
        "\n",
        "Precision is highest (0.67) for the best model, meaning about two-thirds of predicted high yields were correct.\n",
        "\n",
        "F1 score (which balances precision and recall) is highest (0.8) for binary crossentropy with SGD.\n",
        "\n",
        "Hinge loss results:\n",
        "\n",
        "Both Adam and SGD with hinge loss had lower accuracy, precision, and F1, suggesting hinge loss is less suitable for this dataset.\n",
        "\n",
        "Findings\n",
        "\n",
        "Binary crossentropy loss with SGD optimizer is recommended for classifying crop yields as high or low on this dataset.\n",
        "\n",
        "The models are very sensitive (high recall), but some may over-predict high yield (lower precision).\n",
        "\n",
        "For SmartFarm AI, this means the model is good at not missing high yield cases, but may sometimes suggest high yield when it is actually low, so further tuning or more data may be needed for better precision."
      ]
    },
    {
      "cell_type": "code",
      "execution_count": null,
      "metadata": {
        "colab": {
          "base_uri": "https://localhost:8080/"
        },
        "id": "2WVIT2cCGdUQ",
        "outputId": "9d7f3441-17bf-4588-cfb8-389236939b22"
      },
      "outputs": [
        {
          "name": "stdout",
          "output_type": "stream",
          "text": [
            "Regression Results Table:\n",
            "  Loss Optimizer          MSE        MAE          R2\n",
            "0  mse      adam  1709.062597  41.261840 -190.805948\n",
            "1  mse       sgd    65.353050   7.512834   -6.334491\n",
            "2  mae      adam  1732.123409  41.535028 -193.394034\n",
            "3  mae       sgd  1690.001991  41.017279 -188.666801\n",
            "\n",
            "Classification Results Table:\n",
            "                  Loss Optimizer  Accuracy  Precision  Recall        F1\n",
            "0  binary_crossentropy      adam       0.6   0.500000     1.0  0.666667\n",
            "1  binary_crossentropy       sgd       0.8   0.666667     1.0  0.800000\n",
            "2                hinge      adam       0.5   0.444444     1.0  0.615385\n",
            "3                hinge       sgd       0.5   0.444444     1.0  0.615385\n"
          ]
        }
      ],
      "source": [
        "#Table\n",
        "\n",
        "# Convert results to DataFrames\n",
        "reg_df = pd.DataFrame(regression_results)\n",
        "clf_df = pd.DataFrame(classification_results)\n",
        "\n",
        "print(\"Regression Results Table:\")\n",
        "print(reg_df)\n",
        "\n",
        "print(\"\\nClassification Results Table:\")\n",
        "print(clf_df)\n"
      ]
    },
    {
      "cell_type": "markdown",
      "metadata": {
        "id": "DLrCLIGHHGvn"
      },
      "source": [
        "#2Comparison Plot"
      ]
    },
    {
      "cell_type": "code",
      "execution_count": null,
      "metadata": {
        "colab": {
          "base_uri": "https://localhost:8080/",
          "height": 803
        },
        "id": "2Nmd_3QxHE9l",
        "outputId": "6e079879-8207-4b06-e309-ad051925a4f1"
      },
      "outputs": [
        {
          "data": {
            "image/png": "[encoded data removed]",
            "text/plain": [
              "<Figure size 800x400 with 1 Axes>"
            ]
          },
          "metadata": {},
          "output_type": "display_data"
        },
        {
          "data": {
            "image/png": "[encoded data removed]",
            "text/plain": [
              "<Figure size 800x400 with 1 Axes>"
            ]
          },
          "metadata": {},
          "output_type": "display_data"
        }
      ],
      "source": [
        "import matplotlib.pyplot as plt\n",
        "\n",
        "# Regression: MSE by Loss and Optimizer\n",
        "plt.figure(figsize=(8,4))\n",
        "for opt in reg_df['Optimizer'].unique():\n",
        "    subset = reg_df[reg_df['Optimizer'] == opt]\n",
        "    plt.bar(subset['Loss'] + \" + \" + opt, subset['MSE'], label=opt)\n",
        "plt.title('Regression: MSE by Loss-Optimizer')\n",
        "plt.ylabel('MSE')\n",
        "plt.xlabel('Loss + Optimizer')\n",
        "plt.show()\n",
        "\n",
        "# Classification: Accuracy by Loss and Optimizer\n",
        "plt.figure(figsize=(8,4))\n",
        "for opt in clf_df['Optimizer'].unique():\n",
        "    subset = clf_df[clf_df['Optimizer'] == opt]\n",
        "    plt.bar(subset['Loss'] + \" + \" + opt, subset['Accuracy'], label=opt)\n",
        "plt.title('Classification: Accuracy by Loss-Optimizer')\n",
        "plt.ylabel('Accuracy')\n",
        "plt.xlabel('Loss + Optimizer')\n",
        "plt.show()\n"
      ]
    },
    {
      "cell_type": "markdown",
      "metadata": {
        "id": "bFoBkQFMHeT2"
      },
      "source": [
        "#3. Discussion: Which Model Performed Best and Why\n",
        "\n",
        "Regression:\n",
        "\n",
        "The combination of MSE loss with SGD optimizer achieved the lowest MSE and MAE, and the least negative R2 score, making it the best among those tested. However, the negative R2 indicates the model still performed poorly overall, likely due to the small dataset or model complexity.\n",
        "\n",
        "Classification:\n",
        "\n",
        "The binary crossentropy loss with SGD optimizer gave the highest accuracy (0.8) and F1 score (0.8), making it the best choice for classifying high vs. low yield. This combination balanced correct predictions and minimized false positives better than the others.\n",
        "\n",
        "Why:\n",
        "\n",
        "SGD is often more stable on small datasets, and MSE/binary crossentropy are standard, well-behaved loss functions for regression/classification. Adam may require more data or tuning to outperform SGD in this context.\n",
        "\n",
        "In summary:\n",
        "\n",
        "Use SGD + MSE for regression and SGD + binary crossentropy for classification on this dataset, as they provided the best balance of accuracy and reliability for SmartFarm AI’s needs."
      ]
    },
    {
      "cell_type": "markdown",
      "metadata": {
        "id": "vwTVAcQTItTF"
      },
      "source": [
        "#Program #3\n",
        " \n",
        " \n",
        "Imagine a two-wheeled robot navigating a simple maze. The\n",
        "robot uses two front-mounted infrared sensors,left sensor (L) and right sensor\n",
        "(R) to detect nearby obstacles. Each sensor gives a binary signal 0- No\n",
        "obstacle, 1- Obstacle detected.Based on these inputs, the robot must decide\n",
        "whether to move forward or change direction. Train the Robot with\n",
        "MADALine neural network.Develop a console-based interactive application\n",
        "where the user enters sensor inputs, and the system predicts the robot's\n",
        "movement in real time."
      ]
    },
    {
      "cell_type": "markdown",
      "metadata": {
        "id": "UpDeDUbpJTWk"
      },
      "source": [
        "Objective\n",
        "\n",
        "Goal:\n",
        "\n",
        "Train a MADALINE neural network to control a two-wheeled robot’s movement based on two binary infrared sensor inputs (left and right).\n",
        "\n",
        "Inputs:\n",
        "\n",
        "Left sensor (L): 0 (no obstacle), 1 (obstacle)\n",
        "\n",
        "Right sensor (R): 0 (no obstacle), 1 (obstacle)\n",
        "\n",
        "\n",
        "Outputs (Actions):\n",
        "\n",
        "\n",
        "0: Move Forward\n",
        "\n",
        "1: Turn Left\n",
        "\n",
        "2: Turn Right\n",
        "\n",
        "3: Stop/Turn Around"
      ]
    },
    {
      "cell_type": "code",
      "execution_count": null,
      "metadata": {
        "id": "Gw3Xn77cI5xd"
      },
      "outputs": [],
      "source": [
        "#Step 1: Prepare Training Data\n",
        "import numpy as np\n",
        "\n",
        "# Truth table for robot actions\n",
        "# L, R => Action\n",
        "# 0, 0 => 0 (Forward)\n",
        "# 1, 0 => 2 (Turn Right)\n",
        "# 0, 1 => 1 (Turn Left)\n",
        "# 1, 1 => 3 (Stop/Turn Around)\n",
        "\n",
        "X = np.array([\n",
        "    [0, 0],\n",
        "    [1, 0],\n",
        "    [0, 1],\n",
        "    [1, 1]\n",
        "])\n",
        "'''Purpose:\n",
        "This array represents all possible combinations of the two infrared sensors:\n",
        "\n",
        "Each row is a scenario:\n",
        "\n",
        "`  No obstacle detected by either sensor\n",
        "\n",
        "``: Obstacle detected by the left sensor only\n",
        "\n",
        "``: Obstacle detected by the right sensor only\n",
        "\n",
        "``: Obstacles detected by both sensors'''\n",
        "# We'll use one-hot encoding for 4 possible actions\n",
        "y = np.array([\n",
        "    [1, 0, 0, 0],  # Forward\n",
        "    [0, 0, 1, 0],  # Turn Right\n",
        "    [0, 1, 0, 0],  # Turn Left\n",
        "    [0, 0, 0, 1]   # Stop/Turn Around\n",
        "])\n",
        "'''Purpose:\n",
        "This array represents the robot’s action for each sensor scenario, using one-hot encoding:\n",
        "\n",
        "``: Move Forward\n",
        "\n",
        "``: Turn Left\n",
        "\n",
        "``: Turn Right\n",
        "\n",
        "``: Stop/Turn Around'''\n"
      ]
    },
    {
      "cell_type": "markdown",
      "metadata": {
        "id": "kz3T64SBK_sP"
      },
      "source": [
        "Interpretation & Why We Use This\n",
        "\n",
        "Why this setup?\n",
        "\n",
        "This is the complete “truth table” for the robot’s decision-making based on its two sensors.\n",
        "\n",
        "\n",
        "Each input combination is mapped to a unique robot action.\n",
        "\n",
        "By training the neural network on this data, you teach it to “learn” the correct action for any possible sensor input.\n",
        "\n",
        "Why one-hot encoding?\n",
        "\n",
        "One-hot encoding is standard for classification tasks with more than two categories (here, four possible actions).\n",
        "\n",
        "It allows the output layer of the neural network to use softmax activation, so the model can predict the probability of each action and choose the most likely one."
      ]
    },
    {
      "cell_type": "markdown",
      "metadata": {
        "id": "WSmv5QgbKpyl"
      },
      "source": []
    },
    {
      "cell_type": "code",
      "execution_count": null,
      "metadata": {
        "colab": {
          "base_uri": "https://localhost:8080/"
        },
        "id": "jrP0yPymJkU_",
        "outputId": "3d312e00-bc6e-4fc5-ebd3-9159830b27f7"
      },
      "outputs": [
        {
          "name": "stderr",
          "output_type": "stream",
          "text": [
            "/usr/local/lib/python3.11/dist-packages/keras/src/layers/core/dense.py:87: UserWarning: Do not pass an `input_shape`/`input_dim` argument to a layer. When using Sequential models, prefer using an `Input(shape)` object as the first layer in the model instead.\n",
            "  super().__init__(activity_regularizer=activity_regularizer, **kwargs)\n"
          ]
        },
        {
          "data": {
            "text/plain": [
              "<keras.src.callbacks.history.History at 0x7ed2ae430190>"
            ]
          },
          "execution_count": 48,
          "metadata": {},
          "output_type": "execute_result"
        }
      ],
      "source": [
        "#Step 2: Build and Train a Simple MADALINE Network\n",
        "from keras.models import Sequential\n",
        "from keras.layers import Dense\n",
        "\n",
        "# Build MADALINE-like model\n",
        "model = Sequential()\n",
        "model.add(Dense(4, input_dim=2, activation='relu'))  # Hidden layer (Madaline = multiple Adalines)\n",
        "model.add(Dense(4, activation='softmax'))            # Output layer (4 actions)\n",
        "\n",
        "model.compile(optimizer='adam', loss='categorical_crossentropy', metrics=['accuracy'])\n",
        "model.fit(X, y, epochs=100, verbose=0)\n"
      ]
    },
    {
      "cell_type": "markdown",
      "metadata": {
        "id": "RnHR9uJNLOwd"
      },
      "source": [
        "Model Architecture\n",
        "\n",
        "model = Sequential() initializes the model.\n",
        "\n",
        "model.add(Dense(4, input_dim=2, activation='relu')) adds a hidden layer with 4\n",
        "\n",
        "neurons, taking 2 input features (the two sensors). The activation function is\n",
        "\n",
        "ReLU, which introduces non-linearity.\n",
        "\n",
        "model.add(Dense(4, activation='softmax'))\n",
        "\n",
        "adds an output layer with 4 neurons (one for each possible robot action), using softmax activation to output probabilities for each action."
      ]
    },
    {
      "cell_type": "markdown",
      "metadata": {
        "id": "3jSAUxdiLd9i"
      },
      "source": [
        "#Interpretation & Why We Use This\n",
        "\n",
        "Why this architecture?\n",
        "\n",
        "The hidden layer with 4 neurons allows the network to learn simple patterns\n",
        "\n",
        "from the two sensor inputs, similar to how a MADALINE network uses multiple\n",
        "\n",
        "Adaline units.\n",
        "\n",
        "The output layer with softmax activation enables the network to predict one of\n",
        "\n",
        "four possible actions for the robot.\n",
        "\n",
        "\n",
        "Why categorical crossentropy and softmax?\n",
        "\n",
        "\n",
        "These are standard for multi-class classification problems with one-hot encoded outputs, ensuring the network learns to assign high probability to the correct action.\n",
        "\n",
        "Why Adam optimizer?\n",
        "\n",
        "\n",
        "Adam is robust and adapts the learning rate, making training efficient and stable for small datasets like this"
      ]
    },
    {
      "cell_type": "markdown",
      "metadata": {
        "id": "D1wFuTa5LWe7"
      },
      "source": []
    },
    {
      "cell_type": "code",
      "execution_count": null,
      "metadata": {
        "colab": {
          "background_save": true,
          "base_uri": "https://localhost:8080/"
        },
        "id": "_cfLc_8AJsrb",
        "outputId": "f5e1d8a5-f4f2-405c-e14f-1be34867a28e"
      },
      "outputs": [
        {
          "name": "stdout",
          "output_type": "stream",
          "text": [
            "\u001b[1m1/1\u001b[0m \u001b[32m━━━━━━━━━━━━━━━━━━━━\u001b[0m\u001b[37m\u001b[0m \u001b[1m0s\u001b[0m 68ms/step\n",
            "Robot Action: Stop/Turn Around\n",
            "\n",
            "\u001b[1m1/1\u001b[0m \u001b[32m━━━━━━━━━━━━━━━━━━━━\u001b[0m\u001b[37m\u001b[0m \u001b[1m0s\u001b[0m 39ms/step\n",
            "Robot Action: Turn Right\n",
            "\n",
            "Invalid input. Please enter 0 or 1.\n",
            "\u001b[1m1/1\u001b[0m \u001b[32m━━━━━━━━━━━━━━━━━━━━\u001b[0m\u001b[37m\u001b[0m \u001b[1m0s\u001b[0m 125ms/step\n",
            "Robot Action: Stop/Turn Around\n",
            "\n"
          ]
        }
      ],
      "source": [
        "#Step 3: Interactive Console Application\n",
        "action_map = {\n",
        "    0: \"Move Forward\",\n",
        "    1: \"Turn Left\",\n",
        "    2: \"Turn Right\",\n",
        "    3: \"Stop/Turn Around\"\n",
        "}\n",
        "\n",
        "while True:\n",
        "    try:\n",
        "        l = int(input(\"Enter Left Sensor (0: No Obstacle, 1: Obstacle): \"))\n",
        "        r = int(input(\"Enter Right Sensor (0: No Obstacle, 1: Obstacle): \"))\n",
        "        if l not in [0, 1] or r not in [0, 1]:\n",
        "            print(\"Invalid input. Please enter 0 or 1.\")\n",
        "            continue\n",
        "        inp = np.array([[l, r]])\n",
        "        pred = model.predict(inp)\n",
        "        action = np.argmax(pred)\n",
        "        print(f\"Robot Action: {action_map[action]}\\n\")\n",
        "    except KeyboardInterrupt:\n",
        "        print(\"\\nExiting.\")\n",
        "        break\n"
      ]
    },
    {
      "cell_type": "markdown",
      "metadata": {
        "id": "Cy8xF1fcMxMq"
      },
      "source": [
        "Interpretation & Why Use This Structure\n",
        "\n",
        "Interactive Console:\n",
        "\n",
        "This approach creates a simple, user-friendly interactive shell, allowing you to test your robot’s decision logic in real time without needing a physical robot or complex interface.\n",
        "\n",
        "Immediate Feedback:\n",
        "\n",
        "You can quickly see how the model responds to different sensor inputs, which is ideal for debugging and demonstration.\n",
        "\n",
        "Extensible:\n",
        "\n",
        "You can easily add more actions or logic, or integrate with actual robot hardware in the future."
      ]
    },
    {
      "cell_type": "markdown",
      "metadata": {
        "id": "1F8UWf32M9U3"
      },
      "source": [
        "Summary of Program 3\n",
        "Objective:\n",
        "To develop a console-based interactive application that uses a MADALINE-like neural network to control a two-wheeled robot’s movement based on binary inputs from two front-mounted infrared sensors (left and right).\n",
        "\n",
        "Approach:\n",
        "\n",
        "Data Preparation:\n",
        "\n",
        "Created a truth table covering all possible sensor input combinations and their corresponding robot actions (move forward, turn left, turn right, stop/turn around).\n",
        "\n",
        "Used one-hot encoding for the four possible actions to make the data suitable for neural network training.\n",
        "\n",
        "Model Building & Training:\n",
        "\n",
        "Built a simple two-layer neural network (mimicking MADALINE) using Keras, with a hidden layer and a softmax output layer for multi-class action prediction.\n",
        "\n",
        "Trained the model on the truth table until it could reliably map sensor inputs to the correct robot actions.\n",
        "\n",
        "Interactive Console Application:\n",
        "\n",
        "Developed a user-friendly console interface where users input sensor values (0 or 1), and the trained model predicts and displays the robot’s movement in real time.\n",
        "\n",
        "Outcome:\n",
        "The program enables real-time, intelligent robot navigation decisions based on sensor input, demonstrating the practical use of neural networks (MADALINE) for simple robotics control and providing a foundation for further development or hardware integration."
      ]
    }
  ],
  "metadata": {
    "colab": {
      "provenance": []
    },
    "kernelspec": {
      "display_name": "base",
      "language": "python",
      "name": "python3"
    },
    "language_info": {
      "codemirror_mode": {
        "name": "ipython",
        "version": 3
      },
      "file_extension": ".py",
      "mimetype": "text/x-python",
      "name": "python",
      "nbconvert_exporter": "python",
      "pygments_lexer": "ipython3",
      "version": "3.12.4"
    }
  },
  "nbformat": 4,
  "nbformat_minor": 0
}
