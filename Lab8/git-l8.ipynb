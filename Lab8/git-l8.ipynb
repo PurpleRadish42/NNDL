{
 "cells": [
  {
   "cell_type": "markdown",
   "metadata": {},
   "source": [
    "# Program #1: NLP Sequence Prediction using LSTM\n",
    "\n",
    "## Objective\n",
    "We build a **next-word prediction** model that suggests the next likely word given a partial customer message. This can help an internal support agent reply faster. The model is trained on a public text dataset using **TensorFlow Keras** with an **LSTM** architecture.\n",
    "\n",
    "## Dataset Choice\n",
    "We use the `ag_news_subset` dataset from **TensorFlow Datasets (TFDS)**, which contains news article titles and descriptions across four categories. Although it is a news dataset (not customer chats), it serves as a general-purpose corpus to demonstrate next-word prediction.\n",
    "\n",
    "## High-Level Steps\n",
    "1. Load and inspect dataset (train split only for simplicity)\n",
    "2. Preprocess text (lowercase, tokenize, build vocabulary)\n",
    "3. Create training sequences (n-gram style) for next-word prediction\n",
    "4. Prepare model inputs (padded sequences) and targets\n",
    "5. Define and train an LSTM-based model\n",
    "6. Visualize training metrics\n",
    "7. Implement interactive prediction utilities (greedy + simple beam search)\n",
    "8. Evaluate example predictions & discuss improvements\n",
    "\n",
    "## Notes\n",
    "- This is a **demonstration notebook**, not a fully production‑optimized system.\n",
    "- For faster runtime, we may restrict the number of samples and vocabulary size.\n",
    "- License: `ag_news_subset` is derived from public AG News corpus.\n",
    "\n",
    "Let's begin."
   ]
  },
  {
   "cell_type": "code",
   "execution_count": 1,
   "metadata": {},
   "outputs": [
    {
     "name": "stderr",
     "output_type": "stream",
     "text": [
      "2025-08-11 08:42:19.302348: I tensorflow/core/util/port.cc:153] oneDNN custom operations are on. You may see slightly different numerical results due to floating-point round-off errors from different computation orders. To turn them off, set the environment variable `TF_ENABLE_ONEDNN_OPTS=0`.\n",
      "2025-08-11 08:42:19.388942: E external/local_xla/xla/stream_executor/cuda/cuda_fft.cc:467] Unable to register cuFFT factory: Attempting to register factory for plugin cuFFT when one has already been registered\n",
      "WARNING: All log messages before absl::InitializeLog() is called are written to STDERR\n",
      "E0000 00:00:1754881939.424572    8008 cuda_dnn.cc:8579] Unable to register cuDNN factory: Attempting to register factory for plugin cuDNN when one has already been registered\n",
      "E0000 00:00:1754881939.434718    8008 cuda_blas.cc:1407] Unable to register cuBLAS factory: Attempting to register factory for plugin cuBLAS when one has already been registered\n",
      "W0000 00:00:1754881939.501184    8008 computation_placer.cc:177] computation placer already registered. Please check linkage and avoid linking the same target more than once.\n",
      "W0000 00:00:1754881939.501209    8008 computation_placer.cc:177] computation placer already registered. Please check linkage and avoid linking the same target more than once.\n",
      "W0000 00:00:1754881939.501210    8008 computation_placer.cc:177] computation placer already registered. Please check linkage and avoid linking the same target more than once.\n",
      "W0000 00:00:1754881939.501211    8008 computation_placer.cc:177] computation placer already registered. Please check linkage and avoid linking the same target more than once.\n",
      "2025-08-11 08:42:19.509572: I tensorflow/core/platform/cpu_feature_guard.cc:210] This TensorFlow binary is optimized to use available CPU instructions in performance-critical operations.\n",
      "To enable the following instructions: AVX2 AVX_VNNI FMA, in other operations, rebuild TensorFlow with the appropriate compiler flags.\n"
     ]
    },
    {
     "name": "stdout",
     "output_type": "stream",
     "text": [
      "TensorFlow version: 2.19.0\n",
      "GPU Available: [PhysicalDevice(name='/physical_device:GPU:0', device_type='GPU')]\n"
     ]
    }
   ],
   "source": [
    "# Environment & Imports\n",
    "import os, random, math, json, re\n",
    "import numpy as np\n",
    "import tensorflow as tf\n",
    "import tensorflow_datasets as tfds\n",
    "import matplotlib.pyplot as plt\n",
    "from tensorflow.keras.preprocessing.text import Tokenizer\n",
    "from tensorflow.keras.preprocessing.sequence import pad_sequences\n",
    "\n",
    "print('TensorFlow version:', tf.__version__)\n",
    "print('GPU Available:', tf.config.list_physical_devices('GPU'))"
   ]
  },
  {
   "cell_type": "markdown",
   "metadata": {},
   "source": [
    "## Load Dataset\n",
    "We load only the training split. Each sample is a `(text, label)` pair. We only need the text field.\n",
    "\n",
    "For demonstration performance, we may restrict to the first N samples (configurable)."
   ]
  },
  {
   "cell_type": "code",
   "execution_count": 2,
   "metadata": {},
   "outputs": [
    {
     "name": "stderr",
     "output_type": "stream",
     "text": [
      "WARNING:absl:Variant folder /home/abhijit-42/tensorflow_datasets/ag_news_subset/1.0.0 has no dataset_info.json\n",
      "/home/abhijit-42/miniconda3/envs/tf-env/lib/python3.11/site-packages/tqdm/auto.py:21: TqdmWarning: IProgress not found. Please update jupyter and ipywidgets. See https://ipywidgets.readthedocs.io/en/stable/user_install.html\n",
      "  from .autonotebook import tqdm as notebook_tqdm\n"
     ]
    },
    {
     "name": "stdout",
     "output_type": "stream",
     "text": [
      "\u001b[1mDownloading and preparing dataset Unknown size (download: Unknown size, generated: Unknown size, total: Unknown size) to /home/abhijit-42/tensorflow_datasets/ag_news_subset/1.0.0...\u001b[0m\n"
     ]
    },
    {
     "name": "stderr",
     "output_type": "stream",
     "text": [
      "Dl Completed...: 0 url [00:00, ? url/s]\n",
      "Dl Completed...:   0%|          | 0/1 [00:00<?, ? url/s]\n",
      "Dl Completed...:   0%|          | 0/1 [00:04<?, ? url/s]\n",
      "Dl Completed...:   0%|          | 0/1 [00:05<?, ? url/s]\n",
      "Dl Completed...:   0%|          | 0/1 [00:05<?, ? url/s]\n",
      "Dl Completed...:   0%|          | 0/1 [00:05<?, ? url/s]\n",
      "Dl Completed...:   0%|          | 0/1 [00:05<?, ? url/s]\n",
      "Dl Completed...:   0%|          | 0/1 [00:05<?, ? url/s]\n",
      "Dl Completed...:   0%|          | 0/1 [00:05<?, ? url/s]\n",
      "Dl Completed...:   0%|          | 0/1 [00:05<?, ? url/s]\n",
      "Dl Completed...:   0%|          | 0/1 [00:05<?, ? url/s]\n",
      "Dl Completed...:   0%|          | 0/1 [00:05<?, ? url/s]\n",
      "Dl Completed...:   0%|          | 0/1 [00:05<?, ? url/s]\n",
      "Dl Completed...:   0%|          | 0/1 [00:05<?, ? url/s]\n",
      "Dl Completed...: 100%|██████████| 1/1 [00:05<00:00,  5.94s/ url]\n",
      "Dl Completed...: 100%|██████████| 1/1 [00:06<00:00,  5.94s/ url]\n",
      "Dl Completed...: 100%|██████████| 1/1 [00:06<00:00,  5.94s/ url]\n",
      "Dl Completed...: 100%|██████████| 1/1 [00:06<00:00,  5.94s/ url]\n",
      "Dl Completed...: 100%|██████████| 1/1 [00:06<00:00,  5.94s/ url]\n",
      "\u001b[A\n",
      "Dl Completed...: 100%|██████████| 1/1 [00:06<00:00,  5.94s/ url]\n",
      "Dl Completed...: 100%|██████████| 1/1 [00:06<00:00,  5.94s/ url]\n",
      "Dl Completed...: 100%|██████████| 1/1 [00:06<00:00,  5.94s/ url]\n",
      "Dl Completed...: 100%|██████████| 1/1 [00:06<00:00,  5.94s/ url]\n",
      "Extraction completed...: 100%|██████████| 4/4 [00:06<00:00,  1.52s/ file]\n",
      "Dl Size...: 100%|██████████| 11/11 [00:06<00:00,  1.80 MiB/s]\n",
      "Dl Completed...: 100%|██████████| 1/1 [00:06<00:00,  6.10s/ url]\n",
      "I0000 00:00:1754881951.942250    8008 gpu_device.cc:2019] Created device /job:localhost/replica:0/task:0/device:GPU:0 with 2901 MB memory:  -> device: 0, name: NVIDIA GeForce RTX 4050 Laptop GPU, pci bus id: 0000:01:00.0, compute capability: 8.9\n"
     ]
    },
    {
     "name": "stdout",
     "output_type": "stream",
     "text": [
      "\u001b[1mDataset ag_news_subset downloaded and prepared to /home/abhijit-42/tensorflow_datasets/ag_news_subset/1.0.0. Subsequent calls will reuse this data.\u001b[0m\n"
     ]
    },
    {
     "name": "stderr",
     "output_type": "stream",
     "text": [
      "2025-08-11 08:42:32.071056: I tensorflow/core/kernels/data/tf_record_dataset_op.cc:387] The default buffer size is 262144, which is overridden by the user specified `buffer_size` of 8388608\n"
     ]
    },
    {
     "name": "stdout",
     "output_type": "stream",
     "text": [
      "tfds.core.DatasetInfo(\n",
      "    name='ag_news_subset',\n",
      "    full_name='ag_news_subset/1.0.0',\n",
      "    description=\"\"\"\n",
      "    AG is a collection of more than 1 million news articles. News articles have been\n",
      "    gathered from more than 2000 news sources by ComeToMyHead in more than 1 year of\n",
      "    activity. ComeToMyHead is an academic news search engine which has been running\n",
      "    since July, 2004. The dataset is provided by the academic comunity for research\n",
      "    purposes in data mining (clustering, classification, etc), information retrieval\n",
      "    (ranking, search, etc), xml, data compression, data streaming, and any other\n",
      "    non-commercial activity. For more information, please refer to the link\n",
      "    http://www.di.unipi.it/~gulli/AG_corpus_of_news_articles.html .\n",
      "    \n",
      "    The AG's news topic classification dataset is constructed by Xiang Zhang\n",
      "    (xiang.zhang@nyu.edu) from the dataset above. It is used as a text\n",
      "    classification benchmark in the following paper: Xiang Zhang, Junbo Zhao, Yann\n",
      "    LeCun. Character-level Convolutional Networks for Text Classification. Advances\n",
      "    in Neural Information Processing Systems 28 (NIPS 2015).\n",
      "    \n",
      "    The AG's news topic classification dataset is constructed by choosing 4 largest\n",
      "    classes from the original corpus. Each class contains 30,000 training samples\n",
      "    and 1,900 testing samples. The total number of training samples is 120,000 and\n",
      "    testing 7,600.\n",
      "    \"\"\",\n",
      "    homepage='https://arxiv.org/abs/1509.01626',\n",
      "    data_dir='/home/abhijit-42/tensorflow_datasets/ag_news_subset/1.0.0',\n",
      "    file_format=tfrecord,\n",
      "    download_size=11.24 MiB,\n",
      "    dataset_size=35.79 MiB,\n",
      "    features=FeaturesDict({\n",
      "        'description': Text(shape=(), dtype=string),\n",
      "        'label': ClassLabel(shape=(), dtype=int64, num_classes=4),\n",
      "        'title': Text(shape=(), dtype=string),\n",
      "    }),\n",
      "    supervised_keys=('description', 'label'),\n",
      "    disable_shuffling=False,\n",
      "    nondeterministic_order=False,\n",
      "    splits={\n",
      "        'test': <SplitInfo num_examples=7600, num_shards=1>,\n",
      "        'train': <SplitInfo num_examples=120000, num_shards=1>,\n",
      "    },\n",
      "    citation=\"\"\"@misc{zhang2015characterlevel,\n",
      "        title={Character-level Convolutional Networks for Text Classification},\n",
      "        author={Xiang Zhang and Junbo Zhao and Yann LeCun},\n",
      "        year={2015},\n",
      "        eprint={1509.01626},\n",
      "        archivePrefix={arXiv},\n",
      "        primaryClass={cs.LG}\n",
      "    }\"\"\",\n",
      ")\n",
      "Collected 40000 texts\n",
      "Sample text: amd 39;s new dual-core opteron chip is designed mainly for corporate computing applications, including databases, web services, and financial transactions.\n"
     ]
    },
    {
     "name": "stderr",
     "output_type": "stream",
     "text": [
      "2025-08-11 08:42:35.032930: W tensorflow/core/kernels/data/cache_dataset_ops.cc:916] The calling iterator did not fully read the dataset being cached. In order to avoid unexpected truncation of the dataset, the partially cached contents of the dataset  will be discarded. This can happen if you have an input pipeline similar to `dataset.cache().take(k).repeat()`. You should use `dataset.take(k).cache().repeat()` instead.\n"
     ]
    }
   ],
   "source": [
    "# Load dataset\n",
    "MAX_SAMPLES = 40000  # Adjust for speed / memory. ag_news_subset train has 120K rows.\n",
    "dataset, info = tfds.load('ag_news_subset', split='train', with_info=True, as_supervised=True)\n",
    "print(info)\n",
    "\n",
    "texts = []\n",
    "for i, (text, label) in enumerate(dataset):\n",
    "    if i >= MAX_SAMPLES:\n",
    "        break\n",
    "    # Convert bytes (if necessary) and decode to string\n",
    "    t = text.numpy().decode('utf-8').lower().strip()\n",
    "    # Basic cleanup (optional): keep alphanumerics and punctuation\n",
    "    t = re.sub(r\"[^a-z0-9'.,!?;:\\-\\s]\", ' ', t)\n",
    "    t = re.sub(r'\\s+', ' ', t).strip()\n",
    "    texts.append(t)\n",
    "\n",
    "print(f\"Collected {len(texts)} texts\")\n",
    "print('Sample text:', texts[0][:200])"
   ]
  },
  {
   "cell_type": "markdown",
   "metadata": {},
   "source": [
    "## Tokenization & Vocabulary\n",
    "We use Keras's `Tokenizer` to build a word index. We cap the vocabulary size for efficiency.\n",
    "\n",
    "We will:\n",
    "- Fit tokenizer\n",
    "- Convert texts to sequences of integers\n",
    "- Build n-gram sequences for next-word prediction"
   ]
  },
  {
   "cell_type": "code",
   "execution_count": 3,
   "metadata": {},
   "outputs": [
    {
     "name": "stdout",
     "output_type": "stream",
     "text": [
      "Total words in tokenizer (including OOV): 41979\n",
      "Effective vocab size used: 20000\n",
      "Sample mapping: [('<OOV>', 1), ('the', 2), ('a', 3), ('to', 4), ('of', 5), ('in', 6), ('and', 7), ('on', 8), ('for', 9), ('39', 10)]\n"
     ]
    }
   ],
   "source": [
    "VOCAB_SIZE = 20000  # cap vocabulary\n",
    "tokenizer = Tokenizer(num_words=VOCAB_SIZE, oov_token='<OOV>')\n",
    "tokenizer.fit_on_texts(texts)\n",
    "\n",
    "word_index = tokenizer.word_index\n",
    "actual_vocab_size = min(VOCAB_SIZE, len(word_index) + 1)\n",
    "print('Total words in tokenizer (including OOV):', len(word_index) + 1)\n",
    "print('Effective vocab size used:', actual_vocab_size)\n",
    "print('Sample mapping:', list(word_index.items())[:10])"
   ]
  },
  {
   "cell_type": "markdown",
   "metadata": {},
   "source": [
    "## Build Training Sequences\n",
    "Approach: For each tokenized sentence: if token sequence is `[w1, w2, w3, w4]`, create progressive n-grams whose last token is the prediction target.\n",
    "\n",
    "Examples generated (input -> target):\n",
    "- `w1 w2 w3 -> w4`\n",
    "- `w1 w2 -> w3`\n",
    "- ...\n",
    "\n",
    "We store each as a single sequence where the last token is the label. We'll then separate features and labels later."
   ]
  },
  {
   "cell_type": "code",
   "execution_count": 4,
   "metadata": {},
   "outputs": [
    {
     "name": "stdout",
     "output_type": "stream",
     "text": [
      "Total sequences built: 250000\n",
      "Max sequence length: 173\n",
      "Example sequence (token ids): [1515, 10]\n"
     ]
    }
   ],
   "source": [
    "all_sequences = []\n",
    "max_len = 0\n",
    "sample_skip = 0\n",
    "for text in texts:\n",
    "    token_list = tokenizer.texts_to_sequences([text])[0]\n",
    "    # filter empty or extremely short\n",
    "    if len(token_list) < 3:\n",
    "        continue\n",
    "    for i in range(2, len(token_list)+1):\n",
    "        ngram_seq = token_list[:i]\n",
    "        all_sequences.append(ngram_seq)\n",
    "        if len(ngram_seq) > max_len:\n",
    "            max_len = len(ngram_seq)\n",
    "        # Optional constraint to prevent runaway size\n",
    "        if len(all_sequences) >= 250000:  # safety cap\n",
    "            break\n",
    "    if len(all_sequences) >= 250000:\n",
    "        break\n",
    "\n",
    "print('Total sequences built:', len(all_sequences))\n",
    "print('Max sequence length:', max_len)\n",
    "print('Example sequence (token ids):', all_sequences[0][:10])"
   ]
  },
  {
   "cell_type": "markdown",
   "metadata": {},
   "source": [
    "## Analyze Sequence Length Distribution"
   ]
  },
  {
   "cell_type": "code",
   "execution_count": 5,
   "metadata": {},
   "outputs": [
    {
     "data": {
      "image/png": "[encoded data removed]",
      "text/plain": [
       "<Figure size 600x400 with 1 Axes>"
      ]
     },
     "metadata": {},
     "output_type": "display_data"
    },
    {
     "name": "stdout",
     "output_type": "stream",
     "text": [
      "Mean length: 19.286396 Median: 17.0\n"
     ]
    }
   ],
   "source": [
    "lengths = [len(seq) for seq in all_sequences]\n",
    "plt.figure(figsize=(6,4))\n",
    "plt.hist(lengths, bins=40, color='steelblue')\n",
    "plt.title('Distribution of N-gram Sequence Lengths (including target)')\n",
    "plt.xlabel('Sequence Length')\n",
    "plt.ylabel('Frequency')\n",
    "plt.show()\n",
    "\n",
    "print('Mean length:', np.mean(lengths), 'Median:', np.median(lengths))"
   ]
  },
  {
   "cell_type": "markdown",
   "metadata": {},
   "source": [
    "## Pad Sequences and Split into Features / Labels\n",
    "- We pad sequences to uniform length (`max_len`)\n",
    "- Feature: all tokens except last\n",
    "- Label: last token (sparse integer)\n",
    "\n",
    "We will use `SparseCategoricalCrossentropy`, so labels remain integer indices."
   ]
  },
  {
   "cell_type": "code",
   "execution_count": 6,
   "metadata": {},
   "outputs": [
    {
     "name": "stdout",
     "output_type": "stream",
     "text": [
      "X shape: (250000, 172)\n",
      "y shape: (250000,)\n",
      "Train size: (225000, 172) Val size: (25000, 172)\n"
     ]
    }
   ],
   "source": [
    "padded = pad_sequences(all_sequences, maxlen=max_len, padding='pre')\n",
    "padded = np.array(padded)\n",
    "X = padded[:, :-1]\n",
    "y = padded[:, -1]\n",
    "print('X shape:', X.shape)\n",
    "print('y shape:', y.shape)\n",
    "\n",
    "# Simple train/validation split\n",
    "from sklearn.model_selection import train_test_split\n",
    "X_train, X_val, y_train, y_val = train_test_split(X, y, test_size=0.1, random_state=42, shuffle=True)\n",
    "print('Train size:', X_train.shape, 'Val size:', X_val.shape)"
   ]
  },
  {
   "cell_type": "markdown",
   "metadata": {},
   "source": [
    "## Build the LSTM Model\n",
    "Architecture:\n",
    "1. Embedding layer: maps word indices to dense vectors\n",
    "2. LSTM layer: captures temporal dependencies\n",
    "3. Dense hidden (ReLU) + Dropout for regularization\n",
    "4. Output softmax over vocabulary\n",
    "\n",
    "Loss: `SparseCategoricalCrossentropy` (logits normalized via softmax)\n",
    "Metric: `sparse_categorical_accuracy`"
   ]
  },
  {
   "cell_type": "code",
   "execution_count": 7,
   "metadata": {},
   "outputs": [
    {
     "name": "stderr",
     "output_type": "stream",
     "text": [
      "/home/abhijit-42/miniconda3/envs/tf-env/lib/python3.11/site-packages/keras/src/layers/core/embedding.py:97: UserWarning: Argument `input_length` is deprecated. Just remove it.\n",
      "  warnings.warn(\n"
     ]
    },
    {
     "data": {
      "text/html": [
       "<pre style=\"white-space:pre;overflow-x:auto;line-height:normal;font-family:Menlo,'DejaVu Sans Mono',consolas,'Courier New',monospace\"><span style=\"font-weight: bold\">Model: \"sequential\"</span>\n",
       "</pre>\n"
      ],
      "text/plain": [
       "\u001b[1mModel: \"sequential\"\u001b[0m\n"
      ]
     },
     "metadata": {},
     "output_type": "display_data"
    },
    {
     "data": {
      "text/html": [
       "<pre style=\"white-space:pre;overflow-x:auto;line-height:normal;font-family:Menlo,'DejaVu Sans Mono',consolas,'Courier New',monospace\">┏━━━━━━━━━━━━━━━━━━━━━━━━━━━━━━━━━┳━━━━━━━━━━━━━━━━━━━━━━━━┳━━━━━━━━━━━━━━━┓\n",
       "┃<span style=\"font-weight: bold\"> Layer (type)                    </span>┃<span style=\"font-weight: bold\"> Output Shape           </span>┃<span style=\"font-weight: bold\">       Param # </span>┃\n",
       "┡━━━━━━━━━━━━━━━━━━━━━━━━━━━━━━━━━╇━━━━━━━━━━━━━━━━━━━━━━━━╇━━━━━━━━━━━━━━━┩\n",
       "│ embedding (<span style=\"color: #0087ff; text-decoration-color: #0087ff\">Embedding</span>)           │ ?                      │   <span style=\"color: #00af00; text-decoration-color: #00af00\">0</span> (unbuilt) │\n",
       "├─────────────────────────────────┼────────────────────────┼───────────────┤\n",
       "│ lstm (<span style=\"color: #0087ff; text-decoration-color: #0087ff\">LSTM</span>)                     │ ?                      │   <span style=\"color: #00af00; text-decoration-color: #00af00\">0</span> (unbuilt) │\n",
       "├─────────────────────────────────┼────────────────────────┼───────────────┤\n",
       "│ dense (<span style=\"color: #0087ff; text-decoration-color: #0087ff\">Dense</span>)                   │ ?                      │   <span style=\"color: #00af00; text-decoration-color: #00af00\">0</span> (unbuilt) │\n",
       "├─────────────────────────────────┼────────────────────────┼───────────────┤\n",
       "│ dropout (<span style=\"color: #0087ff; text-decoration-color: #0087ff\">Dropout</span>)               │ ?                      │             <span style=\"color: #00af00; text-decoration-color: #00af00\">0</span> │\n",
       "├─────────────────────────────────┼────────────────────────┼───────────────┤\n",
       "│ dense_1 (<span style=\"color: #0087ff; text-decoration-color: #0087ff\">Dense</span>)                 │ ?                      │   <span style=\"color: #00af00; text-decoration-color: #00af00\">0</span> (unbuilt) │\n",
       "└─────────────────────────────────┴────────────────────────┴───────────────┘\n",
       "</pre>\n"
      ],
      "text/plain": [
       "┏━━━━━━━━━━━━━━━━━━━━━━━━━━━━━━━━━┳━━━━━━━━━━━━━━━━━━━━━━━━┳━━━━━━━━━━━━━━━┓\n",
       "┃\u001b[1m \u001b[0m\u001b[1mLayer (type)                   \u001b[0m\u001b[1m \u001b[0m┃\u001b[1m \u001b[0m\u001b[1mOutput Shape          \u001b[0m\u001b[1m \u001b[0m┃\u001b[1m \u001b[0m\u001b[1m      Param #\u001b[0m\u001b[1m \u001b[0m┃\n",
       "┡━━━━━━━━━━━━━━━━━━━━━━━━━━━━━━━━━╇━━━━━━━━━━━━━━━━━━━━━━━━╇━━━━━━━━━━━━━━━┩\n",
       "│ embedding (\u001b[38;5;33mEmbedding\u001b[0m)           │ ?                      │   \u001b[38;5;34m0\u001b[0m (unbuilt) │\n",
       "├─────────────────────────────────┼────────────────────────┼───────────────┤\n",
       "│ lstm (\u001b[38;5;33mLSTM\u001b[0m)                     │ ?                      │   \u001b[38;5;34m0\u001b[0m (unbuilt) │\n",
       "├─────────────────────────────────┼────────────────────────┼───────────────┤\n",
       "│ dense (\u001b[38;5;33mDense\u001b[0m)                   │ ?                      │   \u001b[38;5;34m0\u001b[0m (unbuilt) │\n",
       "├─────────────────────────────────┼────────────────────────┼───────────────┤\n",
       "│ dropout (\u001b[38;5;33mDropout\u001b[0m)               │ ?                      │             \u001b[38;5;34m0\u001b[0m │\n",
       "├─────────────────────────────────┼────────────────────────┼───────────────┤\n",
       "│ dense_1 (\u001b[38;5;33mDense\u001b[0m)                 │ ?                      │   \u001b[38;5;34m0\u001b[0m (unbuilt) │\n",
       "└─────────────────────────────────┴────────────────────────┴───────────────┘\n"
      ]
     },
     "metadata": {},
     "output_type": "display_data"
    },
    {
     "data": {
      "text/html": [
       "<pre style=\"white-space:pre;overflow-x:auto;line-height:normal;font-family:Menlo,'DejaVu Sans Mono',consolas,'Courier New',monospace\"><span style=\"font-weight: bold\"> Total params: </span><span style=\"color: #00af00; text-decoration-color: #00af00\">0</span> (0.00 B)\n",
       "</pre>\n"
      ],
      "text/plain": [
       "\u001b[1m Total params: \u001b[0m\u001b[38;5;34m0\u001b[0m (0.00 B)\n"
      ]
     },
     "metadata": {},
     "output_type": "display_data"
    },
    {
     "data": {
      "text/html": [
       "<pre style=\"white-space:pre;overflow-x:auto;line-height:normal;font-family:Menlo,'DejaVu Sans Mono',consolas,'Courier New',monospace\"><span style=\"font-weight: bold\"> Trainable params: </span><span style=\"color: #00af00; text-decoration-color: #00af00\">0</span> (0.00 B)\n",
       "</pre>\n"
      ],
      "text/plain": [
       "\u001b[1m Trainable params: \u001b[0m\u001b[38;5;34m0\u001b[0m (0.00 B)\n"
      ]
     },
     "metadata": {},
     "output_type": "display_data"
    },
    {
     "data": {
      "text/html": [
       "<pre style=\"white-space:pre;overflow-x:auto;line-height:normal;font-family:Menlo,'DejaVu Sans Mono',consolas,'Courier New',monospace\"><span style=\"font-weight: bold\"> Non-trainable params: </span><span style=\"color: #00af00; text-decoration-color: #00af00\">0</span> (0.00 B)\n",
       "</pre>\n"
      ],
      "text/plain": [
       "\u001b[1m Non-trainable params: \u001b[0m\u001b[38;5;34m0\u001b[0m (0.00 B)\n"
      ]
     },
     "metadata": {},
     "output_type": "display_data"
    }
   ],
   "source": [
    "from tensorflow.keras import layers, models, callbacks\n",
    "\n",
    "EMBED_DIM = 128\n",
    "LSTM_UNITS = 256\n",
    "DENSE_UNITS = 256\n",
    "DROPOUT = 0.3\n",
    "\n",
    "model = models.Sequential([\n",
    "    layers.Embedding(input_dim=actual_vocab_size, output_dim=EMBED_DIM, input_length=max_len-1),\n",
    "    layers.LSTM(LSTM_UNITS),\n",
    "    layers.Dense(DENSE_UNITS, activation='relu'),\n",
    "    layers.Dropout(DROPOUT),\n",
    "    layers.Dense(actual_vocab_size, activation='softmax')\n",
    "])\n",
    "\n",
    "model.compile(\n",
    "    loss='sparse_categorical_crossentropy',\n",
    "    optimizer=tf.keras.optimizers.Adam(learning_rate=3e-4),\n",
    "    metrics=['sparse_categorical_accuracy']\n",
    ")\n",
    "model.summary()"
   ]
  },
  {
   "cell_type": "markdown",
   "metadata": {},
   "source": [
    "## Train the Model\n",
    "We use EarlyStopping to mitigate overfitting and ModelCheckpoint to save best weights."
   ]
  },
  {
   "cell_type": "code",
   "execution_count": 8,
   "metadata": {},
   "outputs": [
    {
     "name": "stdout",
     "output_type": "stream",
     "text": [
      "Epoch 1/10\n"
     ]
    },
    {
     "name": "stderr",
     "output_type": "stream",
     "text": [
      "I0000 00:00:1754881958.567353    8119 cuda_dnn.cc:529] Loaded cuDNN version 90300\n"
     ]
    },
    {
     "name": "stdout",
     "output_type": "stream",
     "text": [
      "\u001b[1m879/879\u001b[0m \u001b[32m━━━━━━━━━━━━━━━━━━━━\u001b[0m\u001b[37m\u001b[0m \u001b[1m42s\u001b[0m 45ms/step - loss: 7.4631 - sparse_categorical_accuracy: 0.0513 - val_loss: 7.2497 - val_sparse_categorical_accuracy: 0.0624\n",
      "Epoch 2/10\n",
      "\u001b[1m879/879\u001b[0m \u001b[32m━━━━━━━━━━━━━━━━━━━━\u001b[0m\u001b[37m\u001b[0m \u001b[1m39s\u001b[0m 44ms/step - loss: 7.0622 - sparse_categorical_accuracy: 0.0714 - val_loss: 7.0442 - val_sparse_categorical_accuracy: 0.0802\n",
      "Epoch 3/10\n",
      "\u001b[1m879/879\u001b[0m \u001b[32m━━━━━━━━━━━━━━━━━━━━\u001b[0m\u001b[37m\u001b[0m \u001b[1m37s\u001b[0m 42ms/step - loss: 6.8026 - sparse_categorical_accuracy: 0.0890 - val_loss: 6.8777 - val_sparse_categorical_accuracy: 0.0910\n",
      "Epoch 4/10\n",
      "\u001b[1m879/879\u001b[0m \u001b[32m━━━━━━━━━━━━━━━━━━━━\u001b[0m\u001b[37m\u001b[0m \u001b[1m39s\u001b[0m 45ms/step - loss: 6.5979 - sparse_categorical_accuracy: 0.1002 - val_loss: 6.7751 - val_sparse_categorical_accuracy: 0.1041\n",
      "Epoch 5/10\n",
      "\u001b[1m879/879\u001b[0m \u001b[32m━━━━━━━━━━━━━━━━━━━━\u001b[0m\u001b[37m\u001b[0m \u001b[1m40s\u001b[0m 46ms/step - loss: 6.4203 - sparse_categorical_accuracy: 0.1129 - val_loss: 6.6916 - val_sparse_categorical_accuracy: 0.1142\n",
      "Epoch 6/10\n",
      "\u001b[1m879/879\u001b[0m \u001b[32m━━━━━━━━━━━━━━━━━━━━\u001b[0m\u001b[37m\u001b[0m \u001b[1m38s\u001b[0m 43ms/step - loss: 6.2486 - sparse_categorical_accuracy: 0.1255 - val_loss: 6.5956 - val_sparse_categorical_accuracy: 0.1226\n",
      "Epoch 7/10\n",
      "\u001b[1m879/879\u001b[0m \u001b[32m━━━━━━━━━━━━━━━━━━━━\u001b[0m\u001b[37m\u001b[0m \u001b[1m37s\u001b[0m 42ms/step - loss: 6.0914 - sparse_categorical_accuracy: 0.1341 - val_loss: 6.5771 - val_sparse_categorical_accuracy: 0.1294\n",
      "Epoch 8/10\n",
      "\u001b[1m879/879\u001b[0m \u001b[32m━━━━━━━━━━━━━━━━━━━━\u001b[0m\u001b[37m\u001b[0m \u001b[1m37s\u001b[0m 42ms/step - loss: 5.9522 - sparse_categorical_accuracy: 0.1414 - val_loss: 6.5402 - val_sparse_categorical_accuracy: 0.1336\n",
      "Epoch 9/10\n",
      "\u001b[1m879/879\u001b[0m \u001b[32m━━━━━━━━━━━━━━━━━━━━\u001b[0m\u001b[37m\u001b[0m \u001b[1m38s\u001b[0m 43ms/step - loss: 5.8238 - sparse_categorical_accuracy: 0.1463 - val_loss: 6.5320 - val_sparse_categorical_accuracy: 0.1390\n",
      "Epoch 10/10\n",
      "\u001b[1m879/879\u001b[0m \u001b[32m━━━━━━━━━━━━━━━━━━━━\u001b[0m\u001b[37m\u001b[0m \u001b[1m36s\u001b[0m 41ms/step - loss: 5.6999 - sparse_categorical_accuracy: 0.1523 - val_loss: 6.5538 - val_sparse_categorical_accuracy: 0.1439\n"
     ]
    }
   ],
   "source": [
    "EPOCHS = 10\n",
    "BATCH_SIZE = 256\n",
    "\n",
    "es = callbacks.EarlyStopping(monitor='val_loss', patience=2, restore_best_weights=True)\n",
    "ckpt = callbacks.ModelCheckpoint('best_lstm_next_word.keras', monitor='val_loss', save_best_only=True)\n",
    "\n",
    "history = model.fit(\n",
    "    X_train, y_train,\n",
    "    validation_data=(X_val, y_val),\n",
    "    epochs=EPOCHS,\n",
    "    batch_size=BATCH_SIZE,\n",
    "    callbacks=[es, ckpt],\n",
    "    verbose=1\n",
    ")"
   ]
  },
  {
   "cell_type": "markdown",
   "metadata": {},
   "source": [
    "## Visualize Training Curves"
   ]
  },
  {
   "cell_type": "code",
   "execution_count": 9,
   "metadata": {},
   "outputs": [
    {
     "data": {
      "image/png": "[encoded data removed]",
      "text/plain": [
       "<Figure size 1200x400 with 2 Axes>"
      ]
     },
     "metadata": {},
     "output_type": "display_data"
    }
   ],
   "source": [
    "def plot_history(hist):\n",
    "    h = hist.history\n",
    "    plt.figure(figsize=(12,4))\n",
    "    plt.subplot(1,2,1)\n",
    "    plt.plot(h['loss'], label='train_loss')\n",
    "    plt.plot(h['val_loss'], label='val_loss')\n",
    "    plt.title('Loss')\n",
    "    plt.xlabel('Epoch')\n",
    "    plt.legend()\n",
    "    plt.subplot(1,2,2)\n",
    "    plt.plot(h['sparse_categorical_accuracy'], label='train_acc')\n",
    "    plt.plot(h['val_sparse_categorical_accuracy'], label='val_acc')\n",
    "    plt.title('Accuracy')\n",
    "    plt.xlabel('Epoch')\n",
    "    plt.legend()\n",
    "    plt.show()\n",
    "\n",
    "plot_history(history)"
   ]
  },
  {
   "cell_type": "markdown",
   "metadata": {},
   "source": [
    "## Inference Utilities\n",
    "We provide:\n",
    "- `predict_next_word_greedy(seed_text)` for top-1 prediction\n",
    "- `generate_sequence(seed_text, num_words)` to auto-extend a seed\n",
    "- `beam_search_next_word(seed_text, beam_width)` simple beam search for next word only"
   ]
  },
  {
   "cell_type": "code",
   "execution_count": 10,
   "metadata": {},
   "outputs": [
    {
     "name": "stdout",
     "output_type": "stream",
     "text": [
      "\n",
      "Seed: stock market\n",
      "Top-5 Next Word Candidates: [('<OOV>', 0.03890402615070343), ('the', 0.02967260405421257), ('a', 0.017252381891012192), ('and', 0.013791440054774284), ('has', 0.00848439708352089)]\n",
      "Autocompleted Sequence: stock market\n",
      "Beam search top words: [('<OOV>', 0.03890402615070343), ('the', 0.02967260405421257), ('a', 0.017252381891012192), ('and', 0.013791440054774284), ('has', 0.00848439708352089)]\n",
      "\n",
      "Seed: the company announced\n",
      "Top-5 Next Word Candidates: [('on', 0.13177163898944855), ('a', 0.09517256915569305), ('wednesday', 0.06279803067445755), ('the', 0.06120747700333595), ('monday', 0.05935811996459961)]\n",
      "Autocompleted Sequence: the company announced on monday that it was\n",
      "Beam search top words: [('on', 0.13177163898944855), ('a', 0.09517256915569305), ('wednesday', 0.06279803067445755), ('the', 0.06120747700333595), ('monday', 0.05935811996459961)]\n",
      "\n",
      "Seed: new government policy\n",
      "Top-5 Next Word Candidates: [('has', 0.042452048510313034), ('and', 0.042275287210941315), ('inc', 0.038404420018196106), ('<OOV>', 0.035244569182395935), ('is', 0.02822738327085972)]\n",
      "Autocompleted Sequence: new government policy has been a new\n",
      "Beam search top words: [('has', 0.042452048510313034), ('and', 0.042275287210941315), ('inc', 0.038404420018196106), ('<OOV>', 0.035244569182395935), ('is', 0.02822738327085972)]\n",
      "\n",
      "Seed: latest technology\n",
      "Top-5 Next Word Candidates: [('and', 0.03117121197283268), ('on', 0.024238115176558495), ('to', 0.021764326840639114), ('has', 0.02039673924446106), ('<OOV>', 0.020381690934300423)]\n",
      "Autocompleted Sequence: latest technology and the\n",
      "Beam search top words: [('and', 0.03117121197283268), ('on', 0.024238115176558495), ('to', 0.021764326840639114), ('has', 0.02039673924446106), ('<OOV>', 0.020381690934300423)]\n"
     ]
    }
   ],
   "source": [
    "reverse_word_index = {v:k for k,v in tokenizer.word_index.items() if v < actual_vocab_size}\n",
    "\n",
    "def encode_seed(seed):\n",
    "    seed = seed.lower().strip()\n",
    "    seq = tokenizer.texts_to_sequences([seed])[0]\n",
    "    return seq\n",
    "\n",
    "def prepare_input(seq):\n",
    "    # pad to max_len-1 (model expects input_length=max_len-1)\n",
    "    return pad_sequences([seq], maxlen=max_len-1, padding='pre')\n",
    "\n",
    "def predict_next_word_greedy(seed_text, top_k=5):\n",
    "    seq = encode_seed(seed_text)\n",
    "    if not seq:\n",
    "        return None\n",
    "    x = prepare_input(seq)\n",
    "    preds = model.predict(x, verbose=0)[0]\n",
    "    top_indices = preds.argsort()[-top_k:][::-1]\n",
    "    return [(reverse_word_index.get(i, '<UNK>'), float(preds[i])) for i in top_indices]\n",
    "\n",
    "def generate_sequence(seed_text, num_words=5):\n",
    "    out = seed_text\n",
    "    current = encode_seed(seed_text)\n",
    "    for _ in range(num_words):\n",
    "        x = prepare_input(current)\n",
    "        preds = model.predict(x, verbose=0)[0]\n",
    "        next_id = np.argmax(preds)\n",
    "        next_word = reverse_word_index.get(next_id, None)\n",
    "        if not next_word or next_word == '<OOV>':\n",
    "            break\n",
    "        out += ' ' + next_word\n",
    "        current.append(next_id)\n",
    "    return out\n",
    "\n",
    "def beam_search_next_word(seed_text, beam_width=5):\n",
    "    seq = encode_seed(seed_text)\n",
    "    if not seq:\n",
    "        return []\n",
    "    x = prepare_input(seq)\n",
    "    preds = model.predict(x, verbose=0)[0]\n",
    "    top_indices = preds.argsort()[-beam_width:][::-1]\n",
    "    return [(reverse_word_index.get(i, '<UNK>'), float(preds[i])) for i in top_indices]\n",
    "\n",
    "# Quick tests\n",
    "test_seeds = [\n",
    "    'stock market',\n",
    "    'the company announced',\n",
    "    'new government policy',\n",
    "    'latest technology'\n",
    "]\n",
    "for seed in test_seeds:\n",
    "    print('\\nSeed:', seed)\n",
    "    print('Top-5 Next Word Candidates:', predict_next_word_greedy(seed))\n",
    "    print('Autocompleted Sequence:', generate_sequence(seed, num_words=5))\n",
    "    print('Beam search top words:', beam_search_next_word(seed, beam_width=5))"
   ]
  },
  {
   "cell_type": "markdown",
   "metadata": {},
   "source": [
    "## Qualitative Evaluation\n",
    "We examine how plausible the continuations are. Because this dataset is news-centric, suggestions orient toward entities (e.g., 'shares', 'new', 'growth'). For a real **customer support** system, you'd want domain-specific transcripts.\n",
    "\n",
    "Try modifying the seed in the cell below to inspect behavior."
   ]
  },
  {
   "cell_type": "code",
   "execution_count": 11,
   "metadata": {},
   "outputs": [
    {
     "name": "stdout",
     "output_type": "stream",
     "text": [
      "Seed: international trade\n",
      "Top-5 Next Word Candidates: [('has', 0.025357656180858612), ('<OOV>', 0.025086520239710808), ('and', 0.023633580654859543), ('is', 0.015135151334106922), ('of', 0.012146024964749813)]\n",
      "Generated: international trade has been a new\n"
     ]
    }
   ],
   "source": [
    "# Interactive (if running in a live notebook)\n",
    "user_seed = 'international trade'\n",
    "print('Seed:', user_seed)\n",
    "print('Top-5 Next Word Candidates:', predict_next_word_greedy(user_seed))\n",
    "print('Generated:', generate_sequence(user_seed, num_words=8))"
   ]
  },
  {
   "cell_type": "markdown",
   "metadata": {},
   "source": [
    "## Model Saving & Reload\n",
    "We show how to reload the model for future inference."
   ]
  },
  {
   "cell_type": "code",
   "execution_count": 12,
   "metadata": {},
   "outputs": [
    {
     "name": "stdout",
     "output_type": "stream",
     "text": [
      "Reloaded model OK: True\n"
     ]
    }
   ],
   "source": [
    "# Save final model\n",
    "model.save('final_next_word_lstm.keras')\n",
    "\n",
    "# Reload example\n",
    "reloaded = tf.keras.models.load_model('final_next_word_lstm.keras')\n",
    "print('Reloaded model OK:', isinstance(reloaded, tf.keras.Model))"
   ]
  },
  {
   "cell_type": "markdown",
   "metadata": {},
   "source": [
    "## Inference on Reloaded Model\n",
    "We verify predictions remain stable."
   ]
  },
  {
   "cell_type": "code",
   "execution_count": 13,
   "metadata": {},
   "outputs": [
    {
     "name": "stdout",
     "output_type": "stream",
     "text": [
      "Seed: economic growth\n",
      "Top-5 (reloaded): ['of', 'and', 'in', 'has', 'are']\n"
     ]
    }
   ],
   "source": [
    "seed = 'economic growth'\n",
    "seq = encode_seed(seed)\n",
    "x = prepare_input(seq)\n",
    "preds = reloaded.predict(x, verbose=0)[0]\n",
    "top5 = preds.argsort()[-5:][::-1]\n",
    "words = [reverse_word_index.get(i, '<UNK>') for i in top5]\n",
    "print('Seed:', seed)\n",
    "print('Top-5 (reloaded):', words)"
   ]
  },
  {
   "cell_type": "markdown",
   "metadata": {},
   "source": [
    "## Observations & Inferences\n",
    "- Training accuracy typically rises quickly; validation accuracy plateaus earlier, suggesting potential overfitting.\n",
    "- Some predicted words may be generic or high-frequency tokens.\n",
    "- The model lacks context beyond local n-gram history (limited sequences per sentence). Multi-sentence context modeling would help.\n",
    "- Vocabulary truncation (20k) trades off coverage vs. speed.\n",
    "\n",
    "## Potential Improvements\n",
    "1. Use a domain-specific corpus (customer chat logs) after verifying compliance & privacy.\n",
    "2. Replace classic Tokenizer with **Subword tokenization** (e.g., `tfds.deprecated.text.SubwordTextEncoder` or SentencePiece) to handle OOV gracefully.\n",
    "3. Use **Bidirectional LSTM** or **Transformer** architectures for richer context.\n",
    "4. Implement **temperature sampling** or **top-k / nucleus decoding** for creative suggestions.\n",
    "5. Add **contextual metadata** (customer issue category) as conditioning.\n",
    "6. Use **embedding fine-tuning** or pretrained embeddings (e.g., GloVe) for better semantic grounding.\n",
    "7. Optimize memory by streaming sequences (tf.data) rather than materializing all n-grams at once.\n",
    "8. Evaluate quantitatively with **perplexity** and qualitatively with agent feedback.\n",
    "\n",
    "## Conclusion\n",
    "This notebook demonstrates an end-to-end pipeline for next word prediction using an LSTM on a public dataset. With domain adaptation and architectural enhancements, this approach can power a reply suggestion system in customer support workflows."
   ]
  },
  {
   "cell_type": "markdown",
   "metadata": {},
   "source": [
    "## Appendix: Lightweight Perplexity Estimation (Optional)\n",
    "Perplexity can be approximated using the average negative log-likelihood. This is optional and may add runtime cost."
   ]
  },
  {
   "cell_type": "code",
   "execution_count": 14,
   "metadata": {},
   "outputs": [
    {
     "name": "stdout",
     "output_type": "stream",
     "text": [
      "Approx Validation Perplexity (subset=5000): 675.78\n"
     ]
    }
   ],
   "source": [
    "# (Optional) Approximate perplexity on a small validation subset\n",
    "subset = 5000 if X_val.shape[0] > 5000 else X_val.shape[0]\n",
    "val_logits = model.predict(X_val[:subset], verbose=0)\n",
    "probs = val_logits[np.arange(subset), y_val[:subset]]\n",
    "eps = 1e-9\n",
    "neg_log_likelihood = -np.mean(np.log(probs + eps))\n",
    "perplexity = np.exp(neg_log_likelihood)\n",
    "print(f'Approx Validation Perplexity (subset={subset}): {perplexity:.2f}')"
   ]
  }
 ],
 "metadata": {
  "kernelspec": {
   "display_name": "tf-env",
   "language": "python",
   "name": "python3"
  },
  "language_info": {
   "codemirror_mode": {
    "name": "ipython",
    "version": 3
   },
   "file_extension": ".py",
   "mimetype": "text/x-python",
   "name": "python",
   "nbconvert_exporter": "python",
   "pygments_lexer": "ipython3",
   "version": "3.11.13"
  }
 },
 "nbformat": 4,
 "nbformat_minor": 5
}
