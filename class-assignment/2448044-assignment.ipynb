{
  "cells": [
    {
      "cell_type": "markdown",
      "metadata": {},
      "source": [
        "<p><center><h3> Class Assignment - Plant Disease</h3></center>\n",
        "<center>R Abhijit Srivathsan - 2448044</center></p>"
      ]
    },
    {
      "cell_type": "code",
      "execution_count": 1,
      "metadata": {
        "colab": {
          "base_uri": "https://localhost:8080/",
          "height": 1695
        },
        "id": "3t2IDcJRc13y",
        "outputId": "bcf56bf4-9d02-4951-eced-1b3bbce4ee0b"
      },
      "outputs": [
        {
          "name": "stderr",
          "output_type": "stream",
          "text": [
            "2025-07-28 19:55:02.445783: I tensorflow/core/util/port.cc:153] oneDNN custom operations are on. You may see slightly different numerical results due to floating-point round-off errors from different computation orders. To turn them off, set the environment variable `TF_ENABLE_ONEDNN_OPTS=0`.\n",
            "2025-07-28 19:55:02.531036: E external/local_xla/xla/stream_executor/cuda/cuda_fft.cc:467] Unable to register cuFFT factory: Attempting to register factory for plugin cuFFT when one has already been registered\n",
            "WARNING: All log messages before absl::InitializeLog() is called are written to STDERR\n",
            "E0000 00:00:1753712702.565580    6762 cuda_dnn.cc:8579] Unable to register cuDNN factory: Attempting to register factory for plugin cuDNN when one has already been registered\n",
            "E0000 00:00:1753712702.575669    6762 cuda_blas.cc:1407] Unable to register cuBLAS factory: Attempting to register factory for plugin cuBLAS when one has already been registered\n",
            "W0000 00:00:1753712702.650118    6762 computation_placer.cc:177] computation placer already registered. Please check linkage and avoid linking the same target more than once.\n",
            "W0000 00:00:1753712702.650144    6762 computation_placer.cc:177] computation placer already registered. Please check linkage and avoid linking the same target more than once.\n",
            "W0000 00:00:1753712702.650145    6762 computation_placer.cc:177] computation placer already registered. Please check linkage and avoid linking the same target more than once.\n",
            "W0000 00:00:1753712702.650146    6762 computation_placer.cc:177] computation placer already registered. Please check linkage and avoid linking the same target more than once.\n",
            "2025-07-28 19:55:02.658154: I tensorflow/core/platform/cpu_feature_guard.cc:210] This TensorFlow binary is optimized to use available CPU instructions in performance-critical operations.\n",
            "To enable the following instructions: AVX2 AVX_VNNI FMA, in other operations, rebuild TensorFlow with the appropriate compiler flags.\n",
            "/home/abhijit/miniconda3/envs/tf-env/lib/python3.12/site-packages/requests/__init__.py:86: RequestsDependencyWarning: Unable to find acceptable character detection dependency (chardet or charset_normalizer).\n",
            "  warnings.warn(\n"
          ]
        },
        {
          "name": "stdout",
          "output_type": "stream",
          "text": [
            "Downloading from https://www.kaggle.com/api/v1/datasets/download/arjuntejaswi/plant-village?dataset_version_number=1...\n"
          ]
        },
        {
          "name": "stderr",
          "output_type": "stream",
          "text": [
            "100%|██████████| 329M/329M [00:31<00:00, 10.8MB/s] "
          ]
        },
        {
          "name": "stdout",
          "output_type": "stream",
          "text": [
            "Extracting files...\n"
          ]
        },
        {
          "name": "stderr",
          "output_type": "stream",
          "text": [
            "\n"
          ]
        },
        {
          "name": "stdout",
          "output_type": "stream",
          "text": [
            " Dataset downloaded at: /home/abhijit/.cache/kagglehub/datasets/arjuntejaswi/plant-village/versions/1\n",
            " Available files/folders: ['PlantVillage']\n",
            " Using data from: /home/abhijit/.cache/kagglehub/datasets/arjuntejaswi/plant-village/versions/1/PlantVillage\n",
            "Found 16516 images belonging to 15 classes.\n",
            "Found 4122 images belonging to 15 classes.\n"
          ]
        },
        {
          "name": "stderr",
          "output_type": "stream",
          "text": [
            "/home/abhijit/miniconda3/envs/tf-env/lib/python3.12/site-packages/keras/src/layers/convolutional/base_conv.py:113: UserWarning: Do not pass an `input_shape`/`input_dim` argument to a layer. When using Sequential models, prefer using an `Input(shape)` object as the first layer in the model instead.\n",
            "  super().__init__(activity_regularizer=activity_regularizer, **kwargs)\n",
            "I0000 00:00:1753712740.452054    6762 gpu_device.cc:2019] Created device /job:localhost/replica:0/task:0/device:GPU:0 with 3670 MB memory:  -> device: 0, name: NVIDIA GeForce RTX 4050 Laptop GPU, pci bus id: 0000:01:00.0, compute capability: 8.9\n"
          ]
        },
        {
          "name": "stdout",
          "output_type": "stream",
          "text": [
            "Epoch 1/10\n"
          ]
        },
        {
          "name": "stderr",
          "output_type": "stream",
          "text": [
            "/home/abhijit/miniconda3/envs/tf-env/lib/python3.12/site-packages/keras/src/trainers/data_adapters/py_dataset_adapter.py:121: UserWarning: Your `PyDataset` class should call `super().__init__(**kwargs)` in its constructor. `**kwargs` can include `workers`, `use_multiprocessing`, `max_queue_size`. Do not pass these arguments to `fit()`, as they will be ignored.\n",
            "  self._warn_if_super_not_called()\n",
            "WARNING: All log messages before absl::InitializeLog() is called are written to STDERR\n",
            "I0000 00:00:1753712741.899745    7155 service.cc:152] XLA service 0x7895a4017b00 initialized for platform CUDA (this does not guarantee that XLA will be used). Devices:\n",
            "I0000 00:00:1753712741.899761    7155 service.cc:160]   StreamExecutor device (0): NVIDIA GeForce RTX 4050 Laptop GPU, Compute Capability 8.9\n",
            "2025-07-28 19:55:41.933230: I tensorflow/compiler/mlir/tensorflow/utils/dump_mlir_util.cc:269] disabling MLIR crash reproducer, set env var `MLIR_CRASH_REPRODUCER_DIRECTORY` to enable.\n",
            "I0000 00:00:1753712742.077286    7155 cuda_dnn.cc:529] Loaded cuDNN version 90300\n"
          ]
        },
        {
          "name": "stdout",
          "output_type": "stream",
          "text": [
            "\u001b[1m  4/517\u001b[0m \u001b[37m━━━━━━━━━━━━━━━━━━━━\u001b[0m \u001b[1m26s\u001b[0m 51ms/step - accuracy: 0.0898 - loss: 2.7123"
          ]
        },
        {
          "name": "stderr",
          "output_type": "stream",
          "text": [
            "I0000 00:00:1753712746.281084    7155 device_compiler.h:188] Compiled cluster using XLA!  This line is logged at most once for the lifetime of the process.\n"
          ]
        },
        {
          "name": "stdout",
          "output_type": "stream",
          "text": [
            "\u001b[1m517/517\u001b[0m \u001b[32m━━━━━━━━━━━━━━━━━━━━\u001b[0m\u001b[37m\u001b[0m \u001b[1m0s\u001b[0m 63ms/step - accuracy: 0.3248 - loss: 2.1081"
          ]
        },
        {
          "name": "stderr",
          "output_type": "stream",
          "text": [
            "2025-07-28 19:56:27.768083: I external/local_xla/xla/stream_executor/cuda/subprocess_compilation.cc:346] ptxas warning : Registers are spilled to local memory in function 'gemm_fusion_dot_108', 4 bytes spill stores, 4 bytes spill loads\n",
            "\n"
          ]
        },
        {
          "name": "stdout",
          "output_type": "stream",
          "text": [
            "\u001b[1m517/517\u001b[0m \u001b[32m━━━━━━━━━━━━━━━━━━━━\u001b[0m\u001b[37m\u001b[0m \u001b[1m48s\u001b[0m 82ms/step - accuracy: 0.3250 - loss: 2.1074 - val_accuracy: 0.6936 - val_loss: 1.0070\n",
            "Epoch 2/10\n",
            "\u001b[1m517/517\u001b[0m \u001b[32m━━━━━━━━━━━━━━━━━━━━\u001b[0m\u001b[37m\u001b[0m \u001b[1m38s\u001b[0m 74ms/step - accuracy: 0.6299 - loss: 1.1316 - val_accuracy: 0.7795 - val_loss: 0.6593\n",
            "Epoch 3/10\n",
            "\u001b[1m517/517\u001b[0m \u001b[32m━━━━━━━━━━━━━━━━━━━━\u001b[0m\u001b[37m\u001b[0m \u001b[1m38s\u001b[0m 73ms/step - accuracy: 0.7087 - loss: 0.8631 - val_accuracy: 0.7952 - val_loss: 0.6119\n",
            "Epoch 4/10\n",
            "\u001b[1m517/517\u001b[0m \u001b[32m━━━━━━━━━━━━━━━━━━━━\u001b[0m\u001b[37m\u001b[0m \u001b[1m37s\u001b[0m 72ms/step - accuracy: 0.7244 - loss: 0.8114 - val_accuracy: 0.8462 - val_loss: 0.4572\n",
            "Epoch 5/10\n",
            "\u001b[1m517/517\u001b[0m \u001b[32m━━━━━━━━━━━━━━━━━━━━\u001b[0m\u001b[37m\u001b[0m \u001b[1m38s\u001b[0m 74ms/step - accuracy: 0.7726 - loss: 0.6878 - val_accuracy: 0.8205 - val_loss: 0.4940\n",
            "Epoch 6/10\n",
            "\u001b[1m517/517\u001b[0m \u001b[32m━━━━━━━━━━━━━━━━━━━━\u001b[0m\u001b[37m\u001b[0m \u001b[1m38s\u001b[0m 74ms/step - accuracy: 0.7905 - loss: 0.6330 - val_accuracy: 0.8843 - val_loss: 0.3353\n",
            "Epoch 7/10\n",
            "\u001b[1m517/517\u001b[0m \u001b[32m━━━━━━━━━━━━━━━━━━━━\u001b[0m\u001b[37m\u001b[0m \u001b[1m38s\u001b[0m 74ms/step - accuracy: 0.8158 - loss: 0.5645 - val_accuracy: 0.8848 - val_loss: 0.3565\n",
            "Epoch 8/10\n",
            "\u001b[1m517/517\u001b[0m \u001b[32m━━━━━━━━━━━━━━━━━━━━\u001b[0m\u001b[37m\u001b[0m \u001b[1m38s\u001b[0m 74ms/step - accuracy: 0.8194 - loss: 0.5112 - val_accuracy: 0.8937 - val_loss: 0.3010\n",
            "Epoch 9/10\n",
            "\u001b[1m517/517\u001b[0m \u001b[32m━━━━━━━━━━━━━━━━━━━━\u001b[0m\u001b[37m\u001b[0m \u001b[1m38s\u001b[0m 74ms/step - accuracy: 0.8327 - loss: 0.4916 - val_accuracy: 0.8896 - val_loss: 0.3462\n",
            "Epoch 10/10\n",
            "\u001b[1m517/517\u001b[0m \u001b[32m━━━━━━━━━━━━━━━━━━━━\u001b[0m\u001b[37m\u001b[0m \u001b[1m38s\u001b[0m 74ms/step - accuracy: 0.8425 - loss: 0.4573 - val_accuracy: 0.9044 - val_loss: 0.2791\n"
          ]
        },
        {
          "data": {
            "image/png": "[encoded data removed]",
            "text/plain": [
              "<Figure size 1200x400 with 2 Axes>"
            ]
          },
          "metadata": {},
          "output_type": "display_data"
        },
        {
          "name": "stdout",
          "output_type": "stream",
          "text": [
            "\u001b[1m129/129\u001b[0m \u001b[32m━━━━━━━━━━━━━━━━━━━━\u001b[0m\u001b[37m\u001b[0m \u001b[1m8s\u001b[0m 58ms/step\n",
            "\n",
            " Classification Report:\n",
            "                                             precision    recall  f1-score   support\n",
            "\n",
            "              Pepper__bell___Bacterial_spot       0.82      0.94      0.87       199\n",
            "                     Pepper__bell___healthy       0.95      0.99      0.97       295\n",
            "                      Potato___Early_blight       0.95      0.91      0.93       200\n",
            "                       Potato___Late_blight       0.94      0.82      0.88       200\n",
            "                           Potato___healthy       0.83      0.83      0.83        30\n",
            "                      Tomato_Bacterial_spot       0.98      0.94      0.96       425\n",
            "                        Tomato_Early_blight       0.80      0.73      0.76       200\n",
            "                         Tomato_Late_blight       0.91      0.80      0.85       381\n",
            "                           Tomato_Leaf_Mold       0.91      0.81      0.85       190\n",
            "                  Tomato_Septoria_leaf_spot       0.76      0.94      0.84       354\n",
            "Tomato_Spider_mites_Two_spotted_spider_mite       0.95      0.84      0.89       335\n",
            "                        Tomato__Target_Spot       0.81      0.89      0.85       280\n",
            "      Tomato__Tomato_YellowLeaf__Curl_Virus       0.98      0.99      0.99       641\n",
            "                Tomato__Tomato_mosaic_virus       0.86      0.99      0.92        74\n",
            "                             Tomato_healthy       0.99      0.99      0.99       318\n",
            "\n",
            "                                   accuracy                           0.91      4122\n",
            "                                  macro avg       0.90      0.89      0.89      4122\n",
            "                               weighted avg       0.91      0.91      0.91      4122\n",
            "\n",
            "\n",
            " Confusion Matrix:\n",
            " [[187   6   0   0   1   0   1   0   0   4   0   0   0   0   0]\n",
            " [  1 291   0   0   2   0   0   0   0   1   0   0   0   0   0]\n",
            " [  8   1 181   1   0   0   1   1   0   7   0   0   0   0   0]\n",
            " [  2   0   6 165   2   0   2  15   0   7   0   1   0   0   0]\n",
            " [  0   2   0   0  25   0   0   0   1   0   0   2   0   0   0]\n",
            " [  1   0   0   0   0 401   5   5   0   4   0   2   7   0   0]\n",
            " [  8   1   0   4   0   6 146   6   0  18   1   8   2   0   0]\n",
            " [  3   3   4   5   0   1  23 305   8  23   1   1   3   0   1]\n",
            " [  4   0   0   0   0   0   1   0 153  31   0   0   0   1   0]\n",
            " [ 15   1   0   1   0   0   0   0   4 331   0   0   0   2   0]\n",
            " [  0   1   0   0   0   0   1   0   2   2 282  43   1   3   0]\n",
            " [  0   0   0   0   0   1   2   1   0   8  11 249   0   6   2]\n",
            " [  0   0   0   0   0   1   0   2   0   0   1   0 637   0   0]\n",
            " [  0   0   0   0   0   0   0   0   0   1   0   0   0  73   0]\n",
            " [  0   0   0   0   0   0   0   0   0   0   0   2   0   0 316]]\n"
          ]
        }
      ],
      "source": [
        "#  STEP 1: Install kagglehub (for dataset access)\n",
        "#!pip install -q kagglehub\n",
        "\n",
        "#  STEP 2: Import libraries\n",
        "import os\n",
        "import zipfile\n",
        "import numpy as np\n",
        "import matplotlib.pyplot as plt\n",
        "import tensorflow as tf\n",
        "from tensorflow.keras.preprocessing.image import ImageDataGenerator\n",
        "from sklearn.metrics import classification_report, confusion_matrix\n",
        "import kagglehub\n",
        "\n",
        "#  STEP 3: Download the dataset from KaggleHub\n",
        "dataset_path = kagglehub.dataset_download(\"arjuntejaswi/plant-village\")\n",
        "print(\" Dataset downloaded at:\", dataset_path)\n",
        "\n",
        "#  STEP 4: Extract if zipped\n",
        "for file in os.listdir(dataset_path):\n",
        "    if file.endswith(\".zip\"):\n",
        "        zip_path = os.path.join(dataset_path, file)\n",
        "        with zipfile.ZipFile(zip_path, 'r') as zip_ref:\n",
        "            zip_ref.extractall(dataset_path)\n",
        "        print(\" Extracted:\", file)\n",
        "\n",
        "#  STEP 5: Set root_dir to extracted folder\n",
        "print(\" Available files/folders:\", os.listdir(dataset_path))\n",
        "root_dir = os.path.join(dataset_path, \"PlantVillage\")  # Adjust if folder name changes\n",
        "print(\" Using data from:\", root_dir)\n",
        "\n",
        "#  STEP 6: Image Data Preprocessing & Augmentation\n",
        "img_height, img_width = 128, 128\n",
        "batch_size = 32\n",
        "\n",
        "datagen = ImageDataGenerator(\n",
        "    rescale=1.0/255,\n",
        "    validation_split=0.2,\n",
        "    rotation_range=20,\n",
        "    zoom_range=0.2,\n",
        "    horizontal_flip=True\n",
        ")\n",
        "\n",
        "train_data = datagen.flow_from_directory(\n",
        "    root_dir,\n",
        "    target_size=(img_height, img_width),\n",
        "    batch_size=batch_size,\n",
        "    class_mode=\"categorical\",\n",
        "    subset=\"training\",\n",
        "    shuffle=True\n",
        ")\n",
        "\n",
        "val_data = datagen.flow_from_directory(\n",
        "    root_dir,\n",
        "    target_size=(img_height, img_width),\n",
        "    batch_size=batch_size,\n",
        "    class_mode=\"categorical\",\n",
        "    subset=\"validation\",\n",
        "    shuffle=False\n",
        ")\n",
        "\n",
        "#  STEP 7: Build a Custom CNN Model\n",
        "model = tf.keras.Sequential([\n",
        "    tf.keras.layers.Conv2D(32, (3, 3), activation='relu', input_shape=(img_height, img_width, 3)),\n",
        "    tf.keras.layers.MaxPooling2D(2, 2),\n",
        "\n",
        "    tf.keras.layers.Conv2D(64, (3, 3), activation='relu'),\n",
        "    tf.keras.layers.MaxPooling2D(2, 2),\n",
        "\n",
        "    tf.keras.layers.Conv2D(128, (3, 3), activation='relu'),\n",
        "    tf.keras.layers.MaxPooling2D(2, 2),\n",
        "\n",
        "    tf.keras.layers.Flatten(),\n",
        "    tf.keras.layers.Dense(128, activation='relu'),\n",
        "    tf.keras.layers.Dropout(0.5),\n",
        "    tf.keras.layers.Dense(train_data.num_classes, activation='softmax')  # output layer\n",
        "])\n",
        "\n",
        "#  STEP 8: Compile the model\n",
        "model.compile(\n",
        "    optimizer='adam',\n",
        "    loss='categorical_crossentropy',\n",
        "    metrics=['accuracy']\n",
        ")\n",
        "\n",
        "#  STEP 9: Train the model\n",
        "history = model.fit(\n",
        "    train_data,\n",
        "    epochs=10,\n",
        "    validation_data=val_data\n",
        ")\n",
        "\n",
        "#  STEP 10: Plot Accuracy and Loss\n",
        "plt.figure(figsize=(12, 4))\n",
        "plt.subplot(1, 2, 1)\n",
        "plt.plot(history.history['accuracy'], label='Train Accuracy')\n",
        "plt.plot(history.history['val_accuracy'], label='Val Accuracy')\n",
        "plt.title('Accuracy over Epochs')\n",
        "plt.legend()\n",
        "\n",
        "plt.subplot(1, 2, 2)\n",
        "plt.plot(history.history['loss'], label='Train Loss')\n",
        "plt.plot(history.history['val_loss'], label='Val Loss')\n",
        "plt.title('Loss over Epochs')\n",
        "plt.legend()\n",
        "\n",
        "plt.show()\n",
        "\n",
        "#  STEP 11: Evaluate Model Performance\n",
        "val_preds = model.predict(val_data)\n",
        "y_pred = np.argmax(val_preds, axis=1)\n",
        "y_true = val_data.classes\n",
        "class_names = list(val_data.class_indices.keys())\n",
        "\n",
        "# Classification report\n",
        "print(\"\\n Classification Report:\")\n",
        "print(classification_report(y_true, y_pred, target_names=class_names))\n",
        "\n",
        "# Confusion matrix\n",
        "cm = confusion_matrix(y_true, y_pred)\n",
        "print(\"\\n Confusion Matrix:\\n\", cm)\n"
      ]
    },
    {
      "cell_type": "markdown",
      "metadata": {
        "id": "to-5r2K3jjMP"
      },
      "source": [
        "# Conclusion & Interpretation – Plant Disease Classification using CNN\n",
        "\n",
        "The convolutional neural network (CNN) trained on the PlantVillage dataset demonstrated strong performance in classifying plant diseases across 15 distinct categories. Below is a detailed interpretation of the model's behavior based on training results and the confusion matrix:\n",
        "\n",
        "---\n",
        "\n",
        "## 1. High Overall Accuracy\n",
        "\n",
        "- The model achieved a validation accuracy of approximately 90%, indicating that it generalizes well to unseen data.\n",
        "- Training accuracy reached around 83%, and both training and validation loss steadily decreased over the epochs.\n",
        "- The learning curves show no major signs of overfitting, indicating a well-regularized and stable training process.\n",
        "\n",
        "---\n",
        "\n",
        "## 2. Strong Per-Class Performance\n",
        "\n",
        "- Classes such as Class 2, 5, 12, 13, and 14 were classified with high precision and recall, often achieving accuracy above 95%.\n",
        "- Class 13 showed perfect performance with 67 out of 67 predictions correct, suggesting that this class has highly distinctive features and/or good representation in the dataset.\n",
        "\n",
        "---\n",
        "\n",
        "## 3. Misclassification Patterns\n",
        "\n",
        "- Class 4 (only 22 out of 30 correctly predicted) exhibited high confusion, possibly due to:\n",
        "  - Low number of training samples\n",
        "  - High visual similarity with other disease categories\n",
        "- Class 6 and 7 showed mutual confusion, indicating overlapping visual features or textures in those leaf diseases.\n",
        "- These issues could benefit from more data, better class separation, or a deeper model architecture.\n",
        "\n",
        "---\n",
        "\n",
        "## 4. Generalization & Learning Behavior\n",
        "\n",
        "- The validation loss was consistently lower than training loss, which is acceptable due to strong data augmentation and dropout regularization.\n",
        "- No signs of divergence in training/validation curves, but early stopping should be considered for extended training.\n",
        "- The model appears to be underfitting slightly, suggesting room for improvement via deeper architecture or longer training.\n",
        "\n",
        "---\n",
        "\n",
        "## 5. Key Insights\n",
        "\n",
        "- CNNs can effectively classify plant diseases with a diverse and well-labeled dataset.\n",
        "- Performance varies significantly per class; easily distinguishable classes perform better.\n",
        "- Confusion matrix analysis reveals class-level weaknesses not visible in overall accuracy metrics.\n",
        "\n",
        "---\n",
        "\n"
      ]
    }
  ],
  "metadata": {
    "accelerator": "GPU",
    "colab": {
      "gpuType": "T4",
      "provenance": [],
      "toc_visible": true
    },
    "kernelspec": {
      "display_name": "tf-env",
      "language": "python",
      "name": "python3"
    },
    "language_info": {
      "codemirror_mode": {
        "name": "ipython",
        "version": 3
      },
      "file_extension": ".py",
      "mimetype": "text/x-python",
      "name": "python",
      "nbconvert_exporter": "python",
      "pygments_lexer": "ipython3",
      "version": "3.12.11"
    }
  },
  "nbformat": 4,
  "nbformat_minor": 0
}
