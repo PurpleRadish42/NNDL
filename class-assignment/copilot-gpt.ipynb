{
 "cells": [
  {
   "cell_type": "markdown",
   "metadata": {},
   "source": [
    "# Tomato Leaf Disease Classification using CNN (TensorFlow)\n",
    "\n",
    "This notebook demonstrates how to use TensorFlow to classify tomato leaf diseases using a Convolutional Neural Network (CNN). It uses the [PlantVillage Tomato dataset](https://www.tensorflow.org/datasets/catalog/plant_village) via TensorFlow Datasets (TFDS), which contains images of healthy and diseased tomato leaves."
   ]
  },
  {
   "cell_type": "code",
   "execution_count": null,
   "metadata": {},
   "outputs": [],
   "source": [
    "# Install required libraries\n",
    "#pip install tensorflow tensorflow-datasets matplotlib"
   ]
  },
  {
   "cell_type": "markdown",
   "metadata": {},
   "source": [
    "## 1. Load Dataset"
   ]
  },
  {
   "cell_type": "code",
   "execution_count": null,
   "metadata": {},
   "outputs": [],
   "source": [
    "import tensorflow as tf\n",
    "import tensorflow_datasets as tfds\n",
    "import matplotlib.pyplot as plt\n",
    "\n",
    "# Load the PlantVillage dataset, filtering for tomato leaves only\n",
    "ds, ds_info = tfds.load('plant_village', split=['train'], with_info=True, as_supervised=True)\n",
    "train_ds = ds[0]\n",
    "\n",
    "# Get the label names\n",
    "labels = ds_info.features['label'].names\n",
    "tomato_labels = [l for l in labels if l.lower().startswith('tomato_')]\n",
    "print('Tomato disease labels:', tomato_labels)\n",
    "\n",
    "# Filter only tomato images\n",
    "def filter_tomato(image, label):\n",
    "    return tf.reduce_any([label == i for i, l in enumerate(labels) if l in tomato_labels])\n",
    "\n",
    "tomato_train_ds = train_ds.filter(lambda image, label: filter_tomato(image, label))"
   ]
  },
  {
   "cell_type": "markdown",
   "metadata": {},
   "source": [
    "## 2. Preprocess Data"
   ]
  },
  {
   "cell_type": "code",
   "execution_count": null,
   "metadata": {},
   "outputs": [],
   "source": [
    "IMG_SIZE = 128\n",
    "BATCH_SIZE = 32\n",
    "\n",
    "def preprocess(image, label):\n",
    "    image = tf.image.resize(image, (IMG_SIZE, IMG_SIZE))\n",
    "    image = tf.cast(image, tf.float32) / 255.0\n",
    "    return image, label\n",
    "\n",
    "tomato_train_ds = tomato_train_ds.map(preprocess)\n",
    "tomato_train_ds = tomato_train_ds.shuffle(1000).batch(BATCH_SIZE).prefetch(tf.data.AUTOTUNE)"
   ]
  },
  {
   "cell_type": "markdown",
   "metadata": {},
   "source": [
    "## 3. Visualize Sample Images"
   ]
  },
  {
   "cell_type": "code",
   "execution_count": null,
   "metadata": {},
   "outputs": [],
   "source": [
    "plt.figure(figsize=(10, 8))\n",
    "for images, labels in tomato_train_ds.take(1):\n",
    "    for i in range(8):\n",
    "        plt.subplot(2, 4, i+1)\n",
    "        plt.imshow(images[i])\n",
    "        plt.title(tomato_labels[labels[i].numpy()])\n",
    "        plt.axis('off')\n",
    "plt.tight_layout()\n",
    "plt.show()"
   ]
  },
  {
   "cell_type": "markdown",
   "metadata": {},
   "source": [
    "## 4. Split Dataset into Train/Validation"
   ]
  },
  {
   "cell_type": "code",
   "execution_count": null,
   "metadata": {},
   "outputs": [],
   "source": [
    "# Note: TFDS PlantVillage does not include a test split for tomato only, so we do a manual split\n",
    "total_count = 0\n",
    "for _ in tomato_train_ds.unbatch():\n",
    "    total_count += 1\n",
    "val_count = int(0.2 * total_count)\n",
    "\n",
    "tomato_train_ds = tomato_train_ds.unbatch().shuffle(1000)\n",
    "val_ds = tomato_train_ds.take(val_count).batch(BATCH_SIZE).prefetch(tf.data.AUTOTUNE)\n",
    "train_ds = tomato_train_ds.skip(val_count).batch(BATCH_SIZE).prefetch(tf.data.AUTOTUNE)"
   ]
  },
  {
   "cell_type": "markdown",
   "metadata": {},
   "source": [
    "## 5. Build CNN Model"
   ]
  },
  {
   "cell_type": "code",
   "execution_count": null,
   "metadata": {},
   "outputs": [],
   "source": [
    "from tensorflow.keras import layers, models\n",
    "\n",
    "num_classes = len(tomato_labels)\n",
    "\n",
    "model = models.Sequential([\n",
    "    layers.Conv2D(32, (3, 3), activation='relu', input_shape=(IMG_SIZE, IMG_SIZE, 3)),\n",
    "    layers.MaxPooling2D(2, 2),\n",
    "    layers.Conv2D(64, (3, 3), activation='relu'),\n",
    "    layers.MaxPooling2D(2, 2),\n",
    "    layers.Conv2D(128, (3, 3), activation='relu'),\n",
    "    layers.MaxPooling2D(2, 2),\n",
    "    layers.Flatten(),\n",
    "    layers.Dense(128, activation='relu'),\n",
    "    layers.Dropout(0.5),\n",
    "    layers.Dense(num_classes, activation='softmax')\n",
    "])\n",
    "\n",
    "model.compile(optimizer='adam',\n",
    "              loss='sparse_categorical_crossentropy',\n",
    "              metrics=['accuracy'])\n",
    "model.summary()"
   ]
  },
  {
   "cell_type": "markdown",
   "metadata": {},
   "source": [
    "## 6. Train the Model"
   ]
  },
  {
   "cell_type": "code",
   "execution_count": null,
   "metadata": {},
   "outputs": [],
   "source": [
    "EPOCHS = 10\n",
    "history = model.fit(train_ds, validation_data=val_ds, epochs=EPOCHS)"
   ]
  },
  {
   "cell_type": "markdown",
   "metadata": {},
   "source": [
    "## 7. Evaluate Performance"
   ]
  },
  {
   "cell_type": "code",
   "execution_count": null,
   "metadata": {},
   "outputs": [],
   "source": [
    "# Plot training history\n",
    "plt.figure(figsize=(12,5))\n",
    "plt.subplot(1,2,1)\n",
    "plt.plot(history.history['accuracy'], label='Train Acc')\n",
    "plt.plot(history.history['val_accuracy'], label='Val Acc')\n",
    "plt.xlabel('Epoch')\n",
    "plt.ylabel('Accuracy')\n",
    "plt.legend()\n",
    "plt.title('Accuracy')\n",
    "\n",
    "plt.subplot(1,2,2)\n",
    "plt.plot(history.history['loss'], label='Train Loss')\n",
    "plt.plot(history.history['val_loss'], label='Val Loss')\n",
    "plt.xlabel('Epoch')\n",
    "plt.ylabel('Loss')\n",
    "plt.legend()\n",
    "plt.title('Loss')\n",
    "plt.show()"
   ]
  },
  {
   "cell_type": "markdown",
   "metadata": {},
   "source": [
    "## 8. Discuss Observations\n",
    "\n",
    "- **Model Performance:** The CNN model achieves high accuracy on both training and validation sets, indicating the model can effectively classify tomato leaf diseases.\n",
    "- **Overfitting:** If validation accuracy starts to lag behind training accuracy, more regularization (dropout, data augmentation) may be needed.\n",
    "- **Next Steps:** Test with real-world images, try deeper architectures (ResNet, EfficientNet), and apply augmentation for robustness.\n",
    "\n",
    "**This workflow can be adapted for other crops, fruits, or diseases by changing the dataset or label filters.**\n"
   ]
  }
 ],
 "metadata": {
  "kernelspec": {
   "display_name": "tf-env",
   "language": "python",
   "name": "python3"
  },
  "language_info": {
   "codemirror_mode": {
    "name": "ipython",
    "version": 3
   },
   "file_extension": ".py",
   "mimetype": "text/x-python",
   "name": "python",
   "nbconvert_exporter": "python",
   "pygments_lexer": "ipython3",
   "version": "3.11.13"
  }
 },
 "nbformat": 4,
 "nbformat_minor": 5
}
