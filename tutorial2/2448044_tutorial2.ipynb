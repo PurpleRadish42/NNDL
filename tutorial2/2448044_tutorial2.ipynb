{
 "cells": [
  {
   "cell_type": "markdown",
   "metadata": {},
   "source": [
    "<p><center><h3> Tutorial 2: NLTK</h3></center>\n",
    "<center>R Abhijit Srivathsan - 2448044</center></p>"
   ]
  },
  {
   "cell_type": "markdown",
   "metadata": {},
   "source": [
    "## The Story\n",
    "\n",
    "> Once upon a time in a small village, there lived a curious cat named Whiskers. Every morning, Whiskers explored the narrow lanes, chasing butterflies and peeking into gardens. One sunny day, Whiskers discovered an old library hidden behind tall bushes. Inside, dust-covered books whispered stories of ancient lands and brave heroes. Excited, Whiskers spent hours jumping from shelf to shelf, knocking down books and unrolling scrolls. From that day on, the little cat visited the hidden library daily, lost in tales of adventure."
   ]
  },
  {
   "cell_type": "code",
   "execution_count": 1,
   "metadata": {},
   "outputs": [
    {
     "name": "stderr",
     "output_type": "stream",
     "text": [
      "[nltk_data] Downloading package punkt to\n",
      "[nltk_data]     C:\\Users\\abhijit\\AppData\\Roaming\\nltk_data...\n",
      "[nltk_data]   Package punkt is already up-to-date!\n",
      "[nltk_data] Downloading package stopwords to\n",
      "[nltk_data]     C:\\Users\\abhijit\\AppData\\Roaming\\nltk_data...\n",
      "[nltk_data]   Package stopwords is already up-to-date!\n",
      "[nltk_data] Downloading package wordnet to\n",
      "[nltk_data]     C:\\Users\\abhijit\\AppData\\Roaming\\nltk_data...\n",
      "[nltk_data]   Package wordnet is already up-to-date!\n",
      "[nltk_data] Downloading package averaged_perceptron_tagger to\n",
      "[nltk_data]     C:\\Users\\abhijit\\AppData\\Roaming\\nltk_data...\n",
      "[nltk_data]   Package averaged_perceptron_tagger is already up-to-\n",
      "[nltk_data]       date!\n"
     ]
    }
   ],
   "source": [
    "# Import necessary libraries\n",
    "import nltk\n",
    "from nltk.tokenize import sent_tokenize, word_tokenize\n",
    "from nltk.corpus import stopwords\n",
    "from nltk.stem import PorterStemmer, WordNetLemmatizer\n",
    "from nltk import pos_tag, FreqDist\n",
    "\n",
    "# Download required NLTK data\n",
    "nltk.download('punkt')\n",
    "nltk.download('stopwords')\n",
    "nltk.download('wordnet')\n",
    "nltk.download('averaged_perceptron_tagger')\n",
    "\n",
    "# The story text\n",
    "story = \"\"\"Once upon a time in a small village, there lived a curious cat named Whiskers. Every morning, Whiskers explored the narrow lanes, chasing butterflies and peeking into gardens. One sunny day, Whiskers discovered an old library hidden behind tall bushes. Inside, dust-covered books whispered stories of ancient lands and brave heroes. Excited, Whiskers spent hours jumping from shelf to shelf, knocking down books and unrolling scrolls. From that day on, the little cat visited the hidden library daily, lost in tales of adventure.\"\"\""
   ]
  },
  {
   "cell_type": "markdown",
   "metadata": {},
   "source": [
    "## 1. Tokenize the Story into Sentences and Words\n",
    "\n",
    "Tokenization is the process of splitting the text into meaningful units (sentences and words)."
   ]
  },
  {
   "cell_type": "code",
   "execution_count": 2,
   "metadata": {},
   "outputs": [
    {
     "name": "stdout",
     "output_type": "stream",
     "text": [
      "Sentences in the story:\n",
      "\n",
      "1: Once upon a time in a small village, there lived a curious cat named Whiskers.\n",
      "2: Every morning, Whiskers explored the narrow lanes, chasing butterflies and peeking into gardens.\n",
      "3: One sunny day, Whiskers discovered an old library hidden behind tall bushes.\n",
      "4: Inside, dust-covered books whispered stories of ancient lands and brave heroes.\n",
      "5: Excited, Whiskers spent hours jumping from shelf to shelf, knocking down books and unrolling scrolls.\n",
      "6: From that day on, the little cat visited the hidden library daily, lost in tales of adventure.\n",
      "\n",
      "Word tokens:\n",
      " ['Once', 'upon', 'a', 'time', 'in', 'a', 'small', 'village', ',', 'there', 'lived', 'a', 'curious', 'cat', 'named', 'Whiskers', '.', 'Every', 'morning', ',', 'Whiskers', 'explored', 'the', 'narrow', 'lanes', ',', 'chasing', 'butterflies', 'and', 'peeking', 'into', 'gardens', '.', 'One', 'sunny', 'day', ',', 'Whiskers', 'discovered', 'an', 'old', 'library', 'hidden', 'behind', 'tall', 'bushes', '.', 'Inside', ',', 'dust-covered', 'books', 'whispered', 'stories', 'of', 'ancient', 'lands', 'and', 'brave', 'heroes', '.', 'Excited', ',', 'Whiskers', 'spent', 'hours', 'jumping', 'from', 'shelf', 'to', 'shelf', ',', 'knocking', 'down', 'books', 'and', 'unrolling', 'scrolls', '.', 'From', 'that', 'day', 'on', ',', 'the', 'little', 'cat', 'visited', 'the', 'hidden', 'library', 'daily', ',', 'lost', 'in', 'tales', 'of', 'adventure', '.']\n"
     ]
    }
   ],
   "source": [
    "# Sentence tokenization\n",
    "sentences = sent_tokenize(story)\n",
    "print(\"Sentences in the story:\\n\")\n",
    "for i, sent in enumerate(sentences, 1):\n",
    "    print(f\"{i}: {sent}\")\n",
    "\n",
    "# Word tokenization\n",
    "words = word_tokenize(story)\n",
    "print(\"\\nWord tokens:\\n\", words)"
   ]
  },
  {
   "cell_type": "markdown",
   "metadata": {},
   "source": [
    "### Inference\n",
    "We have successfully split the story into sentences and words. This helps in further text analysis."
   ]
  },
  {
   "cell_type": "markdown",
   "metadata": {},
   "source": [
    "## 2. Remove English Stopwords from the Word Tokens\n",
    "\n",
    "Stopwords are common words (like 'the', 'is', 'in') that are usually removed from text before analysis, as they don't add much meaning."
   ]
  },
  {
   "cell_type": "code",
   "execution_count": 3,
   "metadata": {},
   "outputs": [
    {
     "name": "stdout",
     "output_type": "stream",
     "text": [
      "Words after stopword removal:\n",
      " ['upon', 'time', 'small', 'village', 'lived', 'curious', 'cat', 'named', 'Whiskers', 'Every', 'morning', 'Whiskers', 'explored', 'narrow', 'lanes', 'chasing', 'butterflies', 'peeking', 'gardens', 'One', 'sunny', 'day', 'Whiskers', 'discovered', 'old', 'library', 'hidden', 'behind', 'tall', 'bushes', 'Inside', 'books', 'whispered', 'stories', 'ancient', 'lands', 'brave', 'heroes', 'Excited', 'Whiskers', 'spent', 'hours', 'jumping', 'shelf', 'shelf', 'knocking', 'books', 'unrolling', 'scrolls', 'day', 'little', 'cat', 'visited', 'hidden', 'library', 'daily', 'lost', 'tales', 'adventure']\n"
     ]
    }
   ],
   "source": [
    "stop_words = set(stopwords.words('english'))\n",
    "words_no_stop = [word for word in words if word.lower() not in stop_words and word.isalpha()]\n",
    "print(\"Words after stopword removal:\\n\", words_no_stop)"
   ]
  },
  {
   "cell_type": "markdown",
   "metadata": {},
   "source": [
    "### Inference\n",
    "After removing stopwords, we retain only the content-rich words, making analysis more meaningful."
   ]
  },
  {
   "cell_type": "markdown",
   "metadata": {},
   "source": [
    "## 3. Apply Stemming to the Word Tokens\n",
    "\n",
    "Stemming reduces words to their base or root form (e.g., 'running' becomes 'run')."
   ]
  },
  {
   "cell_type": "code",
   "execution_count": 4,
   "metadata": {},
   "outputs": [
    {
     "name": "stdout",
     "output_type": "stream",
     "text": [
      "Stemmed words:\n",
      " ['upon', 'time', 'small', 'villag', 'live', 'curiou', 'cat', 'name', 'whisker', 'everi', 'morn', 'whisker', 'explor', 'narrow', 'lane', 'chase', 'butterfli', 'peek', 'garden', 'one', 'sunni', 'day', 'whisker', 'discov', 'old', 'librari', 'hidden', 'behind', 'tall', 'bush', 'insid', 'book', 'whisper', 'stori', 'ancient', 'land', 'brave', 'hero', 'excit', 'whisker', 'spent', 'hour', 'jump', 'shelf', 'shelf', 'knock', 'book', 'unrol', 'scroll', 'day', 'littl', 'cat', 'visit', 'hidden', 'librari', 'daili', 'lost', 'tale', 'adventur']\n"
     ]
    }
   ],
   "source": [
    "stemmer = PorterStemmer()\n",
    "stemmed_words = [stemmer.stem(word) for word in words_no_stop]\n",
    "print(\"Stemmed words:\\n\", stemmed_words)"
   ]
  },
  {
   "cell_type": "markdown",
   "metadata": {},
   "source": [
    "### Inference\n",
    "Stemming helps group similar words together, reducing complexity for tasks like text classification."
   ]
  },
  {
   "cell_type": "markdown",
   "metadata": {},
   "source": [
    "## 4. Lemmatize the Word Tokens\n",
    "\n",
    "Lemmatization reduces words to their dictionary form (lemma), considering context. For example, 'better' becomes 'good'."
   ]
  },
  {
   "cell_type": "code",
   "execution_count": 5,
   "metadata": {},
   "outputs": [
    {
     "name": "stdout",
     "output_type": "stream",
     "text": [
      "Lemmatized words:\n",
      " ['upon', 'time', 'small', 'village', 'lived', 'curious', 'cat', 'named', 'Whiskers', 'Every', 'morning', 'Whiskers', 'explored', 'narrow', 'lane', 'chasing', 'butterfly', 'peeking', 'garden', 'One', 'sunny', 'day', 'Whiskers', 'discovered', 'old', 'library', 'hidden', 'behind', 'tall', 'bush', 'Inside', 'book', 'whispered', 'story', 'ancient', 'land', 'brave', 'hero', 'Excited', 'Whiskers', 'spent', 'hour', 'jumping', 'shelf', 'shelf', 'knocking', 'book', 'unrolling', 'scroll', 'day', 'little', 'cat', 'visited', 'hidden', 'library', 'daily', 'lost', 'tale', 'adventure']\n"
     ]
    }
   ],
   "source": [
    "lemmatizer = WordNetLemmatizer()\n",
    "lemmatized_words = [lemmatizer.lemmatize(word) for word in words_no_stop]\n",
    "print(\"Lemmatized words:\\n\", lemmatized_words)"
   ]
  },
  {
   "cell_type": "markdown",
   "metadata": {},
   "source": [
    "### Inference\n",
    "Lemmatization provides more accurate base forms than stemming, aiding in better text analysis."
   ]
  },
  {
   "cell_type": "markdown",
   "metadata": {},
   "source": [
    "## 5. Part-of-Speech (POS) Tagging\n",
    "\n",
    "POS tagging assigns grammatical labels (noun, verb, adjective, etc.) to each word."
   ]
  },
  {
   "cell_type": "code",
   "execution_count": 6,
   "metadata": {},
   "outputs": [
    {
     "name": "stdout",
     "output_type": "stream",
     "text": [
      "POS tags:\n",
      " [('upon', 'IN'), ('time', 'NN'), ('small', 'JJ'), ('village', 'NN'), ('lived', 'VBD'), ('curious', 'JJ'), ('cat', 'NN'), ('named', 'VBN'), ('Whiskers', 'NNP'), ('Every', 'NNP'), ('morning', 'NN'), ('Whiskers', 'NNS'), ('explored', 'VBD'), ('narrow', 'JJ'), ('lanes', 'NNS'), ('chasing', 'VBG'), ('butterflies', 'NNS'), ('peeking', 'VBG'), ('gardens', 'NNS'), ('One', 'CD'), ('sunny', 'JJ'), ('day', 'NN'), ('Whiskers', 'NNP'), ('discovered', 'VBD'), ('old', 'JJ'), ('library', 'JJ'), ('hidden', 'NN'), ('behind', 'IN'), ('tall', 'JJ'), ('bushes', 'NNS'), ('Inside', 'IN'), ('books', 'NNS'), ('whispered', 'JJ'), ('stories', 'NNS'), ('ancient', 'JJ'), ('lands', 'NNS'), ('brave', 'VBP'), ('heroes', 'NNS'), ('Excited', 'VBD'), ('Whiskers', 'NNP'), ('spent', 'VBD'), ('hours', 'NNS'), ('jumping', 'VBG'), ('shelf', 'NN'), ('shelf', 'NN'), ('knocking', 'VBG'), ('books', 'NNS'), ('unrolling', 'VBG'), ('scrolls', 'NNS'), ('day', 'NN'), ('little', 'JJ'), ('cat', 'NN'), ('visited', 'VBD'), ('hidden', 'JJ'), ('library', 'JJ'), ('daily', 'JJ'), ('lost', 'VBN'), ('tales', 'NNS'), ('adventure', 'NN')]\n"
     ]
    }
   ],
   "source": [
    "pos_tags = pos_tag(words_no_stop)\n",
    "print(\"POS tags:\\n\", pos_tags)"
   ]
  },
  {
   "cell_type": "markdown",
   "metadata": {},
   "source": [
    "### Inference\n",
    "POS tagging helps understand the grammatical structure and function of each word in the text."
   ]
  },
  {
   "cell_type": "markdown",
   "metadata": {},
   "source": [
    "## 6. Frequency Distribution of Words (after Stopword Removal)\n",
    "\n",
    "Frequency Distribution shows how often each word appears in the text."
   ]
  },
  {
   "cell_type": "code",
   "execution_count": 7,
   "metadata": {},
   "outputs": [
    {
     "name": "stdout",
     "output_type": "stream",
     "text": [
      "Frequency Distribution:\n",
      "\n",
      "Whiskers: 4\n",
      "cat: 2\n",
      "day: 2\n",
      "library: 2\n",
      "hidden: 2\n",
      "books: 2\n",
      "shelf: 2\n",
      "upon: 1\n",
      "time: 1\n",
      "small: 1\n",
      "village: 1\n",
      "lived: 1\n",
      "curious: 1\n",
      "named: 1\n",
      "Every: 1\n",
      "morning: 1\n",
      "explored: 1\n",
      "narrow: 1\n",
      "lanes: 1\n",
      "chasing: 1\n",
      "butterflies: 1\n",
      "peeking: 1\n",
      "gardens: 1\n",
      "One: 1\n",
      "sunny: 1\n",
      "discovered: 1\n",
      "old: 1\n",
      "behind: 1\n",
      "tall: 1\n",
      "bushes: 1\n",
      "Inside: 1\n",
      "whispered: 1\n",
      "stories: 1\n",
      "ancient: 1\n",
      "lands: 1\n",
      "brave: 1\n",
      "heroes: 1\n",
      "Excited: 1\n",
      "spent: 1\n",
      "hours: 1\n",
      "jumping: 1\n",
      "knocking: 1\n",
      "unrolling: 1\n",
      "scrolls: 1\n",
      "little: 1\n",
      "visited: 1\n",
      "daily: 1\n",
      "lost: 1\n",
      "tales: 1\n",
      "adventure: 1\n"
     ]
    },
    {
     "data": {
      "text/plain": [
       "<Axes: title={'center': 'Top 10 Most Common Words (after removing stopwords)'}, xlabel='Samples', ylabel='Counts'>"
      ]
     },
     "execution_count": 7,
     "metadata": {},
     "output_type": "execute_result"
    },
    {
     "data": {
      "image/png": "[encoded data removed]",
      "text/plain": [
       "<Figure size 640x480 with 1 Axes>"
      ]
     },
     "metadata": {},
     "output_type": "display_data"
    }
   ],
   "source": [
    "freq_dist = FreqDist(words_no_stop)\n",
    "print(\"Frequency Distribution:\\n\")\n",
    "for word, freq in freq_dist.most_common():\n",
    "    print(f\"{word}: {freq}\")\n",
    "\n",
    "# Optional: Plot the top 10 words\n",
    "import matplotlib.pyplot as plt\n",
    "freq_dist.plot(10, title='Top 10 Most Common Words (after removing stopwords)')"
   ]
  },
  {
   "cell_type": "markdown",
   "metadata": {},
   "source": [
    "### Inference\n",
    "The frequency distribution highlights the most important words in the story, which are likely to be the main subjects and actions."
   ]
  }
 ],
 "metadata": {
  "kernelspec": {
   "display_name": "Python 3",
   "language": "python",
   "name": "python3"
  },
  "language_info": {
   "codemirror_mode": {
    "name": "ipython",
    "version": 3
   },
   "file_extension": ".py",
   "mimetype": "text/x-python",
   "name": "python",
   "nbconvert_exporter": "python",
   "pygments_lexer": "ipython3",
   "version": "3.13.5"
  }
 },
 "nbformat": 4,
 "nbformat_minor": 2
}
